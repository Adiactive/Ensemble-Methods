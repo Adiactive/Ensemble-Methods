{
  "nbformat": 4,
  "nbformat_minor": 0,
  "metadata": {
    "colab": {
      "name": "“proj_fi.ipynb”的副本",
      "provenance": [],
      "collapsed_sections": [],
      "include_colab_link": true
    },
    "kernelspec": {
      "name": "python3",
      "display_name": "Python 3"
    },
    "accelerator": "GPU"
  },
  "cells": [
    {
      "cell_type": "markdown",
      "metadata": {
        "id": "view-in-github",
        "colab_type": "text"
      },
      "source": [
        "<a href=\"https://colab.research.google.com/github/Adiactive/Ensemble-Methods/blob/main/Ensemble%20Methods%20Implementation%20and%20Analysis.ipynb\" target=\"_parent\"><img src=\"https://colab.research.google.com/assets/colab-badge.svg\" alt=\"Open In Colab\"/></a>"
      ]
    },
    {
      "cell_type": "markdown",
      "metadata": {
        "id": "adqgzLA8Sxhg"
      },
      "source": [
        "#ENSEMBLE METHODS\n",
        "The idea is to construct a set of classifiers that is used to classify a new data point by the weighted or unweighted average of their predictions.In order for an ensemble to outperform a single classifier it must be both accurate and diverse."
      ]
    },
    {
      "cell_type": "code",
      "metadata": {
        "id": "XQaTWj-mH99O"
      },
      "source": [
        "#load libray\n",
        "import tensorflow as tf\n",
        "\n",
        "from tensorflow.keras.datasets import mnist, cifar10, cifar100\n",
        "\n",
        "from tensorflow.keras import Sequential\n",
        "from tensorflow.keras.callbacks import LambdaCallback\n",
        "from tensorflow.keras.layers import Conv2D, MaxPooling2D, Dropout, Dense, Flatten, Activation\n",
        "\n",
        "import numpy as np\n",
        "import random\n",
        "from sklearn.metrics import accuracy_score\n",
        "from sklearn.model_selection import train_test_split\n",
        "from sklearn.model_selection import KFold\n",
        "from sklearn.utils import resample\n",
        "import matplotlib.pyplot as plt\n",
        "labels = ['zero', 'one', 'two', 'three', 'four', 'five', 'six', 'seven', 'eight', 'nine']"
      ],
      "execution_count": null,
      "outputs": []
    },
    {
      "cell_type": "markdown",
      "metadata": {
        "id": "MwRAm5yTC_Ds"
      },
      "source": [
        "# Load dataset:mnist"
      ]
    },
    {
      "cell_type": "code",
      "metadata": {
        "id": "6eqyHK-zICbO",
        "outputId": "ab5ebbad-4441-48be-a60c-6bddcbf441da",
        "colab": {
          "base_uri": "https://localhost:8080/",
          "height": 51
        }
      },
      "source": [
        "#load mnist and split it into test set and train set\n",
        "mnist = tf.keras.datasets.mnist\n",
        "\n",
        "(x_train, y_train), (x_test, y_test) = mnist.load_data()\n",
        "#x_train, x_test = x_train / 255.0, x_test_original / 255.0\n",
        "img_rows, img_cols, channels = 28, 28, 1\n",
        "num_classes = 10\n",
        "\n",
        "x_train = x_train / 255\n",
        "x_test = x_test / 255\n",
        "\n",
        "x_train = x_train.reshape((-1, img_rows, img_cols, channels))\n",
        "x_test = x_test.reshape((-1, img_rows, img_cols, channels))\n",
        "\n",
        "y_train = tf.keras.utils.to_categorical(y_train, num_classes)\n",
        "y_test = tf.keras.utils.to_categorical(y_test, num_classes)"
      ],
      "execution_count": null,
      "outputs": [
        {
          "output_type": "stream",
          "text": [
            "Downloading data from https://storage.googleapis.com/tensorflow/tf-keras-datasets/mnist.npz\n",
            "11493376/11490434 [==============================] - 0s 0us/step\n"
          ],
          "name": "stdout"
        }
      ]
    },
    {
      "cell_type": "markdown",
      "metadata": {
        "id": "usXX9nxsEAo_"
      },
      "source": [
        "# Fast gradient sign method attack(FGSM)\n"
      ]
    },
    {
      "cell_type": "code",
      "metadata": {
        "id": "Nyr34zcMEEkv"
      },
      "source": [
        "#create perturbations which will be used to distort the original image resulting in an adversarial image.\n",
        "def adversarial_pattern(image, label,model):\n",
        "    image = tf.cast(image, tf.float32)\n",
        "    \n",
        "    with tf.GradientTape() as tape:\n",
        "        tape.watch(image)\n",
        "        prediction = model(image)\n",
        "        loss = tf.keras.losses.MSE(label, prediction)\n",
        "    \n",
        "    gradient = tape.gradient(loss, image)\n",
        "    \n",
        "    signed_grad = tf.sign(gradient)\n",
        "    \n",
        "    return signed_grad"
      ],
      "execution_count": null,
      "outputs": []
    },
    {
      "cell_type": "code",
      "metadata": {
        "id": "7FNqS04rEZ1W"
      },
      "source": [
        "#function used to create FGSM attack for a single neural network\n",
        "def adversarial_attack(model,image_set,label_set,eps=0.1):\n",
        "  res=np.array(image_set, copy=True)  \n",
        "  i=0\n",
        "  for image,image_label in zip(image_set,label_set):\n",
        "    perturbations = adversarial_pattern(image.reshape((1, img_rows, img_cols, channels)), image_label,model).numpy()\n",
        "    adversarial = image + perturbations * eps\n",
        "    res[i]=adversarial\n",
        "    i+=1\n",
        "  return res"
      ],
      "execution_count": null,
      "outputs": []
    },
    {
      "cell_type": "code",
      "metadata": {
        "id": "_hjCUnKKEamg"
      },
      "source": [
        "#function used to generate FGSM attack based on the average gradient of a group of neural networks\n",
        "def adversarial_attack_modelSet(model_Set,image_set,label_set):\n",
        "  res=np.array(image_set, copy=True)  \n",
        "  i=0\n",
        "  for image,image_label in zip(image_set,label_set):\n",
        "    pert = 0\n",
        "    for model in model_Set:\n",
        "      perturbations = adversarial_pattern(image.reshape((1, img_rows, img_cols, channels)), image_label,model).numpy()\n",
        "      pert += perturbations\n",
        "    adversarial = image + pert * 0.1 /len(model_Set)\n",
        "    res[i]=adversarial\n",
        "    i+=1\n",
        "  return res"
      ],
      "execution_count": null,
      "outputs": []
    },
    {
      "cell_type": "markdown",
      "metadata": {
        "id": "yRz2eNSCDbcu"
      },
      "source": [
        "#Define different structure neural networks and use FGSM to test their robustness"
      ]
    },
    {
      "cell_type": "markdown",
      "metadata": {
        "id": "W_mBQH0Ic6yH"
      },
      "source": [
        "FGSM attack with same value of epsilon has different effect on different structure neural network. Some neural network's accuracy decreased less than others, which mean some neural network is more robust."
      ]
    },
    {
      "cell_type": "markdown",
      "metadata": {
        "id": "iK0CQs8lDrRG"
      },
      "source": [
        "##Structure 1"
      ]
    },
    {
      "cell_type": "code",
      "metadata": {
        "id": "gsmJFWhQDw1X"
      },
      "source": [
        "#create structure of model\n",
        "#structure 1\n",
        "def create_model():\n",
        "    model = Sequential()\n",
        "    model.add(Conv2D(32, kernel_size=(3, 3), strides=(3, 3), padding='same', activation='relu',kernel_initializer='random_normal',bias_initializer='zeros', input_shape=(img_rows, img_cols, channels)))\n",
        "    model.add(Conv2D(64, kernel_size=(3, 3), strides=(3, 3), padding='same', activation='relu',kernel_initializer='random_normal',bias_initializer='zeros',))\n",
        "    model.add(Conv2D(64, kernel_size=(3, 3), strides=(3, 3), padding='same', activation='relu',kernel_initializer='random_normal',bias_initializer='zeros',))\n",
        "    model.add(MaxPooling2D(pool_size=(2, 2)))\n",
        "    model.add(Dropout(0.2))\n",
        "    model.add(Flatten())\n",
        "    model.add(Dense(32,kernel_initializer='random_normal',bias_initializer='zeros',))\n",
        "    model.add(Dropout(0.2))\n",
        "    model.add(Dense(32,kernel_initializer='random_normal',bias_initializer='zeros',))\n",
        "    model.add(Dropout(0.2))\n",
        "    model.add(Dense(num_classes, activation='softmax',kernel_initializer='random_normal',bias_initializer='zeros',))\n",
        "\n",
        "    model.compile(optimizer='adam', loss='mse', metrics=['accuracy'])\n",
        "    model.summary()\n",
        "    \n",
        "    return model"
      ],
      "execution_count": null,
      "outputs": []
    },
    {
      "cell_type": "code",
      "metadata": {
        "id": "rUkMFY0lpF4u"
      },
      "source": [
        "s1,s2,s3=[],[],[]\n",
        "s1_a,s2_a,s3_a=[],[],[]\n",
        "times=1"
      ],
      "execution_count": null,
      "outputs": []
    },
    {
      "cell_type": "code",
      "metadata": {
        "id": "NUUO8vHKEpEi",
        "outputId": "c1b13d58-5308-46c2-a26b-f6db5c8d58f2",
        "colab": {
          "base_uri": "https://localhost:8080/",
          "height": 437
        }
      },
      "source": [
        "\n",
        "#create model and fit data\n",
        "for i in range(times):\n",
        "  model1 = create_model()\n",
        "  model1.fit(x_train, y_train,\n",
        "            batch_size=32,\n",
        "            epochs=10,\n",
        "            validation_data=(x_test, y_test))\n",
        "  res=model1.evaluate(x=x_test, y=y_test, verbose=0)\n",
        "  print(\"Base accuracy of the model1 on regular images without FGSM attack:\", res[1])\n",
        "  s1_base=res[1]\n",
        "  s1.append(s1_base)\n",
        "  ad_attack1 = adversarial_attack(model1,x_test,y_test)\n",
        "  s1_attack=model1.evaluate(x=ad_attack1, y=y_test, verbose=0)[1]\n",
        "  print(\"Base accuracy on regular images with FGSM attack\", s1_attack) \n",
        "  s1_a.append(s1_attack)"
      ],
      "execution_count": null,
      "outputs": [
        {
          "output_type": "stream",
          "text": [
            "Epoch 1/10\n",
            "1875/1875 [==============================] - 5s 3ms/step - loss: 0.0258 - accuracy: 0.8139 - val_loss: 0.0084 - val_accuracy: 0.9453\n",
            "Epoch 2/10\n",
            "1875/1875 [==============================] - 5s 3ms/step - loss: 0.0109 - accuracy: 0.9291 - val_loss: 0.0056 - val_accuracy: 0.9630\n",
            "Epoch 3/10\n",
            "1875/1875 [==============================] - 5s 3ms/step - loss: 0.0085 - accuracy: 0.9450 - val_loss: 0.0054 - val_accuracy: 0.9637\n",
            "Epoch 4/10\n",
            "1875/1875 [==============================] - 5s 3ms/step - loss: 0.0073 - accuracy: 0.9536 - val_loss: 0.0047 - val_accuracy: 0.9690\n",
            "Epoch 5/10\n",
            "1875/1875 [==============================] - 5s 3ms/step - loss: 0.0066 - accuracy: 0.9584 - val_loss: 0.0043 - val_accuracy: 0.9705\n",
            "Epoch 6/10\n",
            "1875/1875 [==============================] - 5s 3ms/step - loss: 0.0062 - accuracy: 0.9603 - val_loss: 0.0043 - val_accuracy: 0.9723\n",
            "Epoch 7/10\n",
            "1875/1875 [==============================] - 5s 3ms/step - loss: 0.0057 - accuracy: 0.9632 - val_loss: 0.0037 - val_accuracy: 0.9763\n",
            "Epoch 8/10\n",
            "1875/1875 [==============================] - 5s 3ms/step - loss: 0.0053 - accuracy: 0.9666 - val_loss: 0.0036 - val_accuracy: 0.9774\n",
            "Epoch 9/10\n",
            "1875/1875 [==============================] - 5s 3ms/step - loss: 0.0050 - accuracy: 0.9682 - val_loss: 0.0038 - val_accuracy: 0.9759\n",
            "Epoch 10/10\n",
            "1875/1875 [==============================] - 5s 3ms/step - loss: 0.0049 - accuracy: 0.9694 - val_loss: 0.0035 - val_accuracy: 0.9783\n",
            "Base accuracy of the model1 on regular images without FGSM attack: 0.9782999753952026\n",
            "Base accuracy on regular images with FGSM attack 0.42590001225471497\n"
          ],
          "name": "stdout"
        }
      ]
    },
    {
      "cell_type": "code",
      "metadata": {
        "id": "5j67P0R_YPDV",
        "outputId": "a722fbc2-c5fd-4d1a-c34f-2717020c73ed",
        "colab": {
          "base_uri": "https://localhost:8080/",
          "height": 90
        }
      },
      "source": [
        "#try different values of epsilon\n",
        "epsilons = [0, 0.01, 0.1, 0.15]\n",
        "for eps in epsilons:\n",
        "  ad_attack = adversarial_attack(model1,x_test,y_test,eps)\n",
        "  print(\"Base accuracy on regular images with FGSM attack and eps=\",eps,\",\", model1.evaluate(x=ad_attack, y=y_test, verbose=0)[1]) "
      ],
      "execution_count": null,
      "outputs": [
        {
          "output_type": "stream",
          "text": [
            "Base accuracy on regular images with FGSM attack and eps= 0 , 0.9782999753952026\n",
            "Base accuracy on regular images with FGSM attack and eps= 0.01 , 0.9623000025749207\n",
            "Base accuracy on regular images with FGSM attack and eps= 0.1 , 0.42590001225471497\n",
            "Base accuracy on regular images with FGSM attack and eps= 0.15 , 0.1370999962091446\n"
          ],
          "name": "stdout"
        }
      ]
    },
    {
      "cell_type": "markdown",
      "metadata": {
        "id": "WOexm5f52srO"
      },
      "source": [
        "#Naive defence: adverserial training"
      ]
    },
    {
      "cell_type": "code",
      "metadata": {
        "id": "peAi05312yta",
        "outputId": "0881046d-8ecb-4315-b0b6-4162718b0f6b",
        "colab": {
          "base_uri": "https://localhost:8080/",
          "height": 90
        }
      },
      "source": [
        "print(ad_attack1.shape,x_train.shape)\n",
        "print(y_test.shape,y_train.shape)\n",
        "combined_x_dataset = np.concatenate((ad_attack1,x_train), axis=0)\n",
        "combined_y_dataset = np.concatenate((y_test,y_train), axis=0)\n",
        "print(combined_x_dataset.shape)\n",
        "print(combined_y_dataset.shape)"
      ],
      "execution_count": null,
      "outputs": [
        {
          "output_type": "stream",
          "text": [
            "(10000, 28, 28, 1) (60000, 28, 28, 1)\n",
            "(10000, 10) (60000, 10)\n",
            "(70000, 28, 28, 1)\n",
            "(70000, 10)\n"
          ],
          "name": "stdout"
        }
      ]
    },
    {
      "cell_type": "code",
      "metadata": {
        "id": "_PmHLpKD7VgK",
        "outputId": "1e4c1ece-66b2-4668-e3f4-8d2d694710f4",
        "colab": {
          "base_uri": "https://localhost:8080/",
          "height": 417
        }
      },
      "source": [
        "model1_adv_train = create_model()\n",
        "model1_adv_train.fit(combined_x_dataset, combined_y_dataset,\n",
        "          batch_size=32,\n",
        "          epochs=10)\n",
        "res=model1_adv_train.evaluate(x=x_test, y=y_test, verbose=0)\n",
        "print(\"Base accuracy of the adverserial trained model1 on regular images without FGSM attack:\", res[1])\n",
        "ad_attack_dataset = adversarial_attack(model1_adv_train,x_test,y_test)\n",
        "res2=model1_adv_train.evaluate(x=ad_attack_dataset, y=y_test, verbose=0)[1]\n",
        "print(\"Base accuracy of the adverserial trained model1 on regular images with FGSM attack\", res2) \n"
      ],
      "execution_count": null,
      "outputs": [
        {
          "output_type": "stream",
          "text": [
            "Epoch 1/10\n",
            "2188/2188 [==============================] - 6s 3ms/step - loss: 0.0235 - accuracy: 0.8323\n",
            "Epoch 2/10\n",
            "2188/2188 [==============================] - 6s 3ms/step - loss: 0.0100 - accuracy: 0.9353\n",
            "Epoch 3/10\n",
            "2188/2188 [==============================] - 6s 3ms/step - loss: 0.0080 - accuracy: 0.9482\n",
            "Epoch 4/10\n",
            "2188/2188 [==============================] - 6s 3ms/step - loss: 0.0070 - accuracy: 0.9555\n",
            "Epoch 5/10\n",
            "2188/2188 [==============================] - 6s 3ms/step - loss: 0.0061 - accuracy: 0.9608\n",
            "Epoch 6/10\n",
            "2188/2188 [==============================] - 6s 3ms/step - loss: 0.0057 - accuracy: 0.9632\n",
            "Epoch 7/10\n",
            "2188/2188 [==============================] - 6s 3ms/step - loss: 0.0052 - accuracy: 0.9667\n",
            "Epoch 8/10\n",
            "2188/2188 [==============================] - 6s 3ms/step - loss: 0.0048 - accuracy: 0.9697\n",
            "Epoch 9/10\n",
            "2188/2188 [==============================] - 6s 3ms/step - loss: 0.0046 - accuracy: 0.9710\n",
            "Epoch 10/10\n",
            "2188/2188 [==============================] - 7s 3ms/step - loss: 0.0044 - accuracy: 0.9724\n",
            "Base accuracy of the adverserial trained model1 on regular images without FGSM attack: 0.9803000092506409\n",
            "Base accuracy of the adverserial trained model1 on regular images with FGSM attack 0.014999999664723873\n"
          ],
          "name": "stdout"
        }
      ]
    },
    {
      "cell_type": "code",
      "metadata": {
        "id": "KtzFeFVWnUrm",
        "outputId": "1a684b9f-8415-48c9-89bd-dcd996881bf5",
        "colab": {
          "base_uri": "https://localhost:8080/",
          "height": 299
        }
      },
      "source": [
        "import numpy as np\n",
        "import matplotlib.pyplot as plt\n",
        " \n",
        "# width of the bars\n",
        "barWidth = 0.3\n",
        " \n",
        "# Choose the height of the blue bars\n",
        "bars1 = [res[1]]\n",
        " \n",
        "# Choose the height of the cyan bars\n",
        "bars2 = [res2]\n",
        " \n",
        "\n",
        " \n",
        "# The x position of bars\n",
        "r1 = np.arange(len(bars1))\n",
        "r2 = [x + barWidth for x in r1]\n",
        " \n",
        "# Create blue bars\n",
        "plt.bar(r1, bars1, width = barWidth, color = 'blue', edgecolor = 'black' ,capsize=7, label='base precision')\n",
        " \n",
        "# Create cyan bars\n",
        "plt.bar(r2, bars2, width = barWidth, color = 'cyan', edgecolor = 'black' ,capsize=7, label='precision under attack')\n",
        " \n",
        "# general layout\n",
        "plt.title('FGSM attack on adverserial training neural network')\n",
        "plt.xticks([r + barWidth for r in range(len(bars1))], ['s1'])\n",
        "plt.ylabel('precision')\n",
        "plt.legend()"
      ],
      "execution_count": null,
      "outputs": [
        {
          "output_type": "execute_result",
          "data": {
            "text/plain": [
              "<matplotlib.legend.Legend at 0x7faac0634c88>"
            ]
          },
          "metadata": {
            "tags": []
          },
          "execution_count": 13
        },
        {
          "output_type": "display_data",
          "data": {
            "image/png": "[encoded data removed]",
            "text/plain": [
              "<Figure size 432x288 with 1 Axes>"
            ]
          },
          "metadata": {
            "tags": [],
            "needs_background": "light"
          }
        }
      ]
    },
    {
      "cell_type": "markdown",
      "metadata": {
        "id": "WK7aGpeGYmlK"
      },
      "source": [
        "As the value of epsilon is increased, it becomes easier to fool the network. Bur the perturbations becomes more identifiable."
      ]
    },
    {
      "cell_type": "markdown",
      "metadata": {
        "id": "9BMhOSX6FmD6"
      },
      "source": [
        "##Structure 2"
      ]
    },
    {
      "cell_type": "code",
      "metadata": {
        "id": "sEzPa2otFowi"
      },
      "source": [
        "#structure 2\n",
        "def create_model2():\n",
        "    model = Sequential([\n",
        "      tf.keras.layers.Flatten(input_shape=(28, 28, 1)),\n",
        "      tf.keras.layers.Dense(128,activation='relu'),\n",
        "      tf.keras.layers.Dense(10, activation='softmax')\n",
        "    ])\n",
        "    model.compile(optimizer='adam', loss='mse', metrics=['accuracy'])\n",
        "    return model"
      ],
      "execution_count": null,
      "outputs": []
    },
    {
      "cell_type": "code",
      "metadata": {
        "id": "5FLkrU_ZFrXB",
        "outputId": "94f83690-f12e-4e2f-80a3-e049387e4b94",
        "colab": {
          "base_uri": "https://localhost:8080/",
          "height": 437
        }
      },
      "source": [
        "for i in range(times):\n",
        "  #create model and fit data\n",
        "  model2 = create_model2()\n",
        "  model2.fit(x_train, y_train,\n",
        "            batch_size=32,\n",
        "            epochs=10,\n",
        "            validation_data=(x_test, y_test))\n",
        "  s2_base=model2.evaluate(x=x_test, y=y_test, verbose=0)[1]\n",
        "  print(\"Base accuracy of the model2 on regular images without FGSM attack:\", s2_base)\n",
        "  ad_attack2 = adversarial_attack(model2,x_test,y_test)\n",
        "  s2_attack=model2.evaluate(x=ad_attack2, y=y_test, verbose=0)[1]\n",
        "  print(\"Base accuracy of the model2 on regular images with FGSM attack\", s2_attack) \n",
        "  s2.append(s2_base)\n",
        "  s2_a.append(s2_attack)"
      ],
      "execution_count": null,
      "outputs": [
        {
          "output_type": "stream",
          "text": [
            "Epoch 1/10\n",
            "1875/1875 [==============================] - 4s 2ms/step - loss: 0.0119 - accuracy: 0.9233 - val_loss: 0.0069 - val_accuracy: 0.9560\n",
            "Epoch 2/10\n",
            "1875/1875 [==============================] - 3s 2ms/step - loss: 0.0058 - accuracy: 0.9633 - val_loss: 0.0052 - val_accuracy: 0.9663\n",
            "Epoch 3/10\n",
            "1875/1875 [==============================] - 3s 2ms/step - loss: 0.0042 - accuracy: 0.9736 - val_loss: 0.0043 - val_accuracy: 0.9717\n",
            "Epoch 4/10\n",
            "1875/1875 [==============================] - 3s 2ms/step - loss: 0.0033 - accuracy: 0.9793 - val_loss: 0.0040 - val_accuracy: 0.9748\n",
            "Epoch 5/10\n",
            "1875/1875 [==============================] - 3s 2ms/step - loss: 0.0027 - accuracy: 0.9837 - val_loss: 0.0041 - val_accuracy: 0.9733\n",
            "Epoch 6/10\n",
            "1875/1875 [==============================] - 3s 2ms/step - loss: 0.0023 - accuracy: 0.9860 - val_loss: 0.0033 - val_accuracy: 0.9787\n",
            "Epoch 7/10\n",
            "1875/1875 [==============================] - 3s 2ms/step - loss: 0.0019 - accuracy: 0.9880 - val_loss: 0.0032 - val_accuracy: 0.9805\n",
            "Epoch 8/10\n",
            "1875/1875 [==============================] - 3s 2ms/step - loss: 0.0017 - accuracy: 0.9898 - val_loss: 0.0042 - val_accuracy: 0.9723\n",
            "Epoch 9/10\n",
            "1875/1875 [==============================] - 3s 2ms/step - loss: 0.0016 - accuracy: 0.9905 - val_loss: 0.0036 - val_accuracy: 0.9778\n",
            "Epoch 10/10\n",
            "1875/1875 [==============================] - 3s 2ms/step - loss: 0.0014 - accuracy: 0.9919 - val_loss: 0.0038 - val_accuracy: 0.9763\n",
            "Base accuracy of the model2 on regular images without FGSM attack: 0.9763000011444092\n",
            "Base accuracy of the model2 on regular images with FGSM attack 0.017000000923871994\n"
          ],
          "name": "stdout"
        }
      ]
    },
    {
      "cell_type": "markdown",
      "metadata": {
        "id": "Yukzm7gdGIZB"
      },
      "source": [
        "## structure3"
      ]
    },
    {
      "cell_type": "code",
      "metadata": {
        "id": "dg9El-kzJa4M"
      },
      "source": [
        "#structure 3\n",
        "def create_model3():\n",
        "\tmodel = Sequential()\n",
        "\tmodel.add(Conv2D(32, (3, 3), activation='relu', kernel_initializer='he_uniform', input_shape=(28, 28, 1)))\n",
        "\tmodel.add(MaxPooling2D((2, 2)))\n",
        "\tmodel.add(Flatten())\n",
        "\tmodel.add(Dense(100, activation='relu', kernel_initializer='he_uniform'))\n",
        "\tmodel.add(Dense(10, activation='softmax'))\n",
        "\t# compile model\n",
        "\topt = tf.keras.optimizers.SGD(lr=0.01, momentum=0.9)\n",
        "\tmodel.compile(optimizer=opt, loss='categorical_crossentropy', metrics=['accuracy'])\n",
        "\treturn model"
      ],
      "execution_count": null,
      "outputs": []
    },
    {
      "cell_type": "code",
      "metadata": {
        "id": "CAmLI1YxQl9I",
        "outputId": "271069a5-067d-41e2-b237-641df43ac37f",
        "colab": {
          "base_uri": "https://localhost:8080/",
          "height": 437
        }
      },
      "source": [
        "for i in range(times):\n",
        "  #create model and fit data\n",
        "  model3 = create_model3()\n",
        "  model3.fit(x_train, y_train,\n",
        "            batch_size=32,\n",
        "            epochs=10,\n",
        "            validation_data=(x_test, y_test))\n",
        "  s3_base = model3.evaluate(x=x_test, y=y_test, verbose=0)[1]\n",
        "  print(\"Base accuracy of the model3 on regular images without FGSM attack:\", s3_base)\n",
        "  ad_attack3 = adversarial_attack(model3,x_test,y_test)\n",
        "  s3_attack = model3.evaluate(x=ad_attack3, y=y_test, verbose=0)[1]\n",
        "  print(\"Base accuracy of the model3 on regular images with FGSM attack\", s3_attack) \n",
        "  s3.append(s3_base)\n",
        "  s3_a.append(s3_attack)"
      ],
      "execution_count": null,
      "outputs": [
        {
          "output_type": "stream",
          "text": [
            "Epoch 1/10\n",
            "1875/1875 [==============================] - 5s 3ms/step - loss: 0.1797 - accuracy: 0.9455 - val_loss: 0.0823 - val_accuracy: 0.9740\n",
            "Epoch 2/10\n",
            "1875/1875 [==============================] - 5s 3ms/step - loss: 0.0600 - accuracy: 0.9824 - val_loss: 0.0617 - val_accuracy: 0.9801\n",
            "Epoch 3/10\n",
            "1875/1875 [==============================] - 5s 3ms/step - loss: 0.0388 - accuracy: 0.9880 - val_loss: 0.0471 - val_accuracy: 0.9839\n",
            "Epoch 4/10\n",
            "1875/1875 [==============================] - 5s 2ms/step - loss: 0.0262 - accuracy: 0.9920 - val_loss: 0.0410 - val_accuracy: 0.9862\n",
            "Epoch 5/10\n",
            "1875/1875 [==============================] - 5s 3ms/step - loss: 0.0182 - accuracy: 0.9948 - val_loss: 0.0408 - val_accuracy: 0.9864\n",
            "Epoch 6/10\n",
            "1875/1875 [==============================] - 5s 3ms/step - loss: 0.0129 - accuracy: 0.9961 - val_loss: 0.0374 - val_accuracy: 0.9879\n",
            "Epoch 7/10\n",
            "1875/1875 [==============================] - 5s 3ms/step - loss: 0.0082 - accuracy: 0.9980 - val_loss: 0.0375 - val_accuracy: 0.9878\n",
            "Epoch 8/10\n",
            "1875/1875 [==============================] - 5s 3ms/step - loss: 0.0057 - accuracy: 0.9985 - val_loss: 0.0384 - val_accuracy: 0.9884\n",
            "Epoch 9/10\n",
            "1875/1875 [==============================] - 5s 3ms/step - loss: 0.0039 - accuracy: 0.9992 - val_loss: 0.0420 - val_accuracy: 0.9869\n",
            "Epoch 10/10\n",
            "1875/1875 [==============================] - 5s 3ms/step - loss: 0.0021 - accuracy: 0.9998 - val_loss: 0.0406 - val_accuracy: 0.9882\n",
            "Base accuracy of the model3 on regular images without FGSM attack: 0.9882000088691711\n",
            "Base accuracy of the model3 on regular images with FGSM attack 0.4860000014305115\n"
          ],
          "name": "stdout"
        }
      ]
    },
    {
      "cell_type": "markdown",
      "metadata": {
        "id": "6_B6FfgKGxOK"
      },
      "source": [
        "#transferability of FGSM on different structure neural network\n",
        "we try to use FGSM attack generated by structure 1 to attack structure 2 and 3."
      ]
    },
    {
      "cell_type": "code",
      "metadata": {
        "id": "JamUPbYoVWib",
        "outputId": "e35db4e9-0026-4218-8af9-10a4732524fb",
        "colab": {
          "base_uri": "https://localhost:8080/",
          "height": 54
        }
      },
      "source": [
        "s1_at_s2=model2.evaluate(x=ad_attack1, y=y_test, verbose=0)[1]\n",
        "print(\"apply the FGSM attack generated by loss function of s1 to s2\", s1_at_s2) \n",
        "s1_at_s3=model3.evaluate(x=ad_attack1, y=y_test, verbose=0)[1]\n",
        "print(\"apply the FGSM attack generated by loss function of s1 to s3\", s1_at_s3) "
      ],
      "execution_count": null,
      "outputs": [
        {
          "output_type": "stream",
          "text": [
            "apply the FGSM attack generated by loss function of s1 to s2 0.9024999737739563\n",
            "apply the FGSM attack generated by loss function of s1 to s3 0.9629999995231628\n"
          ],
          "name": "stdout"
        }
      ]
    },
    {
      "cell_type": "markdown",
      "metadata": {
        "id": "4MmOVdcnWHpk"
      },
      "source": [
        "we try to use FGSM attack generated by structure 2 to attack structure 1 and 3."
      ]
    },
    {
      "cell_type": "code",
      "metadata": {
        "id": "vYBqFoFTWNzM",
        "outputId": "b6a49157-88f5-4b7c-fb13-b0fa774ac395",
        "colab": {
          "base_uri": "https://localhost:8080/",
          "height": 54
        }
      },
      "source": [
        "s2_at_s1=model1.evaluate(x=ad_attack2, y=y_test, verbose=0)[1]\n",
        "print(\"apply the FGSM attack generated by loss function of s1 to s3\", s2_at_s1) \n",
        "s2_at_s3=model3.evaluate(x=ad_attack2, y=y_test, verbose=0)[1]\n",
        "print(\"apply the FGSM attack generated by loss function of s2 to s3\", s2_at_s3) "
      ],
      "execution_count": null,
      "outputs": [
        {
          "output_type": "stream",
          "text": [
            "apply the FGSM attack generated by loss function of s1 to s3 0.9204000234603882\n",
            "apply the FGSM attack generated by loss function of s2 to s3 0.9404000043869019\n"
          ],
          "name": "stdout"
        }
      ]
    },
    {
      "cell_type": "markdown",
      "metadata": {
        "id": "6MuSkBcqWYXJ"
      },
      "source": [
        "we try to use FGSM attack generated by structure 3 to attack structure 1 and 2."
      ]
    },
    {
      "cell_type": "code",
      "metadata": {
        "id": "VmzTeLS8WcF3",
        "outputId": "868fd81e-be14-47d3-ae73-28094ae6a454",
        "colab": {
          "base_uri": "https://localhost:8080/",
          "height": 54
        }
      },
      "source": [
        "s3_at_s1=model1.evaluate(x=ad_attack3, y=y_test, verbose=0)[1]\n",
        "print(\"apply the FGSM attack generated by loss function of s3 to s1\",s3_at_s1 ) \n",
        "s3_at_s2=model2.evaluate(x=ad_attack3, y=y_test, verbose=0)[1]\n",
        "print(\"apply the FGSM attack generated by loss function of s3 to s2\", s3_at_s2) "
      ],
      "execution_count": null,
      "outputs": [
        {
          "output_type": "stream",
          "text": [
            "apply the FGSM attack generated by loss function of s3 to s1 0.9578999876976013\n",
            "apply the FGSM attack generated by loss function of s3 to s2 0.9265000224113464\n"
          ],
          "name": "stdout"
        }
      ]
    },
    {
      "cell_type": "markdown",
      "metadata": {
        "id": "rZly-3FCHPRS"
      },
      "source": [
        "#Define the prediction and evaulation of the ensemble learning\n",
        "we use majority vote to decide the prediction of ensemble learning"
      ]
    },
    {
      "cell_type": "code",
      "metadata": {
        "id": "ftJlZFCEK-rT"
      },
      "source": [
        "def ensemble_predictions(members, testX):\n",
        "\t# make predictions\n",
        "\tyhats = [model.predict(testX) for model in members]\n",
        "\tyhats = np.array(yhats)\n",
        "\t# sum across ensemble members\n",
        "\tsummed = np.sum(yhats, axis=0)\n",
        "\t# argmax across classes\n",
        "\tresult = np.argmax(summed, axis=1)\n",
        "\treturn result"
      ],
      "execution_count": null,
      "outputs": []
    },
    {
      "cell_type": "code",
      "metadata": {
        "id": "Hb-Fz69RLR6W"
      },
      "source": [
        "def evaluate_n_members(members, n_members, testX, y_test):\n",
        "\t# select a subset of members\n",
        "\ttesty=[]\n",
        "\tsubset = members[:n_members]\n",
        "\t# make prediction\n",
        "\tyhat = ensemble_predictions(subset, testX)\n",
        "\tfor item in y_test:\n",
        "\t\ttesty.append(item.argmax())\n",
        "\t# calculate accuracy\n",
        "\treturn accuracy_score(testy, yhat)"
      ],
      "execution_count": null,
      "outputs": []
    },
    {
      "cell_type": "markdown",
      "metadata": {
        "id": "eLH6SyfU2qBO"
      },
      "source": [
        "#Define multiple classifiers with the same network architecture but with random initial weights"
      ]
    },
    {
      "cell_type": "code",
      "metadata": {
        "id": "7l-DYHdMKT-W"
      },
      "source": [
        "times=1\n",
        "m1_base=[]\n",
        "m1_attack1=[]\n",
        "m1_attack_all=[]"
      ],
      "execution_count": null,
      "outputs": []
    },
    {
      "cell_type": "code",
      "metadata": {
        "id": "RbTEeQZaLZ5P",
        "outputId": "7c5917bf-4114-4a11-8f79-083b5d72bf14",
        "colab": {
          "base_uri": "https://localhost:8080/",
          "height": 1000
        }
      },
      "source": [
        "# fit model on dataset\n",
        "def fit_model(x_train, y_train):\n",
        "  #trainy_enc = to_categorical(trainy)\n",
        "  # define model\n",
        "  model = create_model()\n",
        "  # fit model\n",
        "  model.fit(x_train, y_train,batch_size=32,epochs=10)\n",
        "  return model\n",
        "\n",
        "#ensemble learning with three same structure neural network\n",
        "for i in range(times):\n",
        "  n_members = 3\n",
        "  ensemble_same_struct = [fit_model(x_train, y_train) for _ in range(n_members)]\n",
        "  base=evaluate_n_members(ensemble_same_struct,3,x_test,y_test)\n",
        "  ad_attack_one = adversarial_attack(ensemble_same_struct[0],x_test,y_test)\n",
        "  p1 = evaluate_n_members(ensemble_same_struct,3,ad_attack_one,y_test)\n",
        "  ad_attack_all = adversarial_attack_modelSet(ensemble_same_struct,x_test,y_test)\n",
        "  p2 = evaluate_n_members(ensemble_same_struct,3,ad_attack_all,y_test)\n",
        "  m1_base.append(base)\n",
        "  m1_attack1.append(p1)\n",
        "  m1_attack_all.append(p2)"
      ],
      "execution_count": null,
      "outputs": [
        {
          "output_type": "stream",
          "text": [
            "Epoch 1/10\n",
            "1875/1875 [==============================] - 5s 2ms/step - loss: 0.0263 - accuracy: 0.8120\n",
            "Epoch 2/10\n",
            "1875/1875 [==============================] - 5s 2ms/step - loss: 0.0110 - accuracy: 0.9284\n",
            "Epoch 3/10\n",
            "1875/1875 [==============================] - 5s 2ms/step - loss: 0.0086 - accuracy: 0.9448\n",
            "Epoch 4/10\n",
            "1875/1875 [==============================] - 5s 2ms/step - loss: 0.0074 - accuracy: 0.9525\n",
            "Epoch 5/10\n",
            "1875/1875 [==============================] - 5s 2ms/step - loss: 0.0066 - accuracy: 0.9579\n",
            "Epoch 6/10\n",
            "1875/1875 [==============================] - 5s 2ms/step - loss: 0.0060 - accuracy: 0.9618\n",
            "Epoch 7/10\n",
            "1875/1875 [==============================] - 4s 2ms/step - loss: 0.0057 - accuracy: 0.9641\n",
            "Epoch 8/10\n",
            "1875/1875 [==============================] - 5s 2ms/step - loss: 0.0053 - accuracy: 0.9659\n",
            "Epoch 9/10\n",
            "1875/1875 [==============================] - 5s 2ms/step - loss: 0.0050 - accuracy: 0.9685\n",
            "Epoch 10/10\n",
            "1875/1875 [==============================] - 5s 2ms/step - loss: 0.0048 - accuracy: 0.9699\n",
            "Epoch 1/10\n",
            "1875/1875 [==============================] - 5s 2ms/step - loss: 0.0252 - accuracy: 0.8188\n",
            "Epoch 2/10\n",
            "1875/1875 [==============================] - 5s 2ms/step - loss: 0.0103 - accuracy: 0.9330\n",
            "Epoch 3/10\n",
            "1875/1875 [==============================] - 5s 2ms/step - loss: 0.0085 - accuracy: 0.9458\n",
            "Epoch 4/10\n",
            "1875/1875 [==============================] - 5s 2ms/step - loss: 0.0074 - accuracy: 0.9524\n",
            "Epoch 5/10\n",
            "1875/1875 [==============================] - 5s 2ms/step - loss: 0.0065 - accuracy: 0.9581\n",
            "Epoch 6/10\n",
            "1875/1875 [==============================] - 5s 2ms/step - loss: 0.0059 - accuracy: 0.9624\n",
            "Epoch 7/10\n",
            "1875/1875 [==============================] - 5s 2ms/step - loss: 0.0058 - accuracy: 0.9632\n",
            "Epoch 8/10\n",
            "1875/1875 [==============================] - 5s 3ms/step - loss: 0.0054 - accuracy: 0.9661\n",
            "Epoch 9/10\n",
            "1875/1875 [==============================] - 5s 2ms/step - loss: 0.0052 - accuracy: 0.9669\n",
            "Epoch 10/10\n",
            "1875/1875 [==============================] - 5s 2ms/step - loss: 0.0050 - accuracy: 0.9685\n",
            "Epoch 1/10\n",
            "1875/1875 [==============================] - 5s 3ms/step - loss: 0.0250 - accuracy: 0.8194\n",
            "Epoch 2/10\n",
            "1875/1875 [==============================] - 5s 2ms/step - loss: 0.0105 - accuracy: 0.9312\n",
            "Epoch 3/10\n",
            "1875/1875 [==============================] - 5s 2ms/step - loss: 0.0083 - accuracy: 0.9462\n",
            "Epoch 4/10\n",
            "1875/1875 [==============================] - 5s 2ms/step - loss: 0.0071 - accuracy: 0.9542\n",
            "Epoch 5/10\n",
            "1875/1875 [==============================] - 5s 2ms/step - loss: 0.0064 - accuracy: 0.9588\n",
            "Epoch 6/10\n",
            "1875/1875 [==============================] - 5s 2ms/step - loss: 0.0058 - accuracy: 0.9635\n",
            "Epoch 7/10\n",
            "1875/1875 [==============================] - 4s 2ms/step - loss: 0.0056 - accuracy: 0.9646\n",
            "Epoch 8/10\n",
            "1875/1875 [==============================] - 5s 2ms/step - loss: 0.0052 - accuracy: 0.9676\n",
            "Epoch 9/10\n",
            "1875/1875 [==============================] - 5s 2ms/step - loss: 0.0050 - accuracy: 0.9681\n",
            "Epoch 10/10\n",
            "1875/1875 [==============================] - 4s 2ms/step - loss: 0.0048 - accuracy: 0.9692\n"
          ],
          "name": "stdout"
        }
      ]
    },
    {
      "cell_type": "code",
      "metadata": {
        "id": "bxuGCxIlL5v6",
        "outputId": "a4f590ab-570c-4262-f3b5-8fbb2830394e",
        "colab": {
          "base_uri": "https://localhost:8080/",
          "height": 54
        }
      },
      "source": [
        "print(\"precision of the ensemble learning based on three same structure neural networks \")\n",
        "print(\"precision without FGSM attack:\",evaluate_n_members(ensemble_same_struct,3,x_test,y_test))"
      ],
      "execution_count": null,
      "outputs": [
        {
          "output_type": "stream",
          "text": [
            "precision of the ensemble learning based on three same structure neural networks \n",
            "precision without FGSM attack: 0.9833\n"
          ],
          "name": "stdout"
        }
      ]
    },
    {
      "cell_type": "code",
      "metadata": {
        "id": "SRf_9vxj3n19"
      },
      "source": [
        "#gernerate FGSM attack based on the gradient of one neural network \n",
        "ad_attack_one = adversarial_attack(ensemble_same_struct[0],x_test,y_test)"
      ],
      "execution_count": null,
      "outputs": []
    },
    {
      "cell_type": "code",
      "metadata": {
        "id": "lU8RxJ544m1d",
        "outputId": "655e3593-4e68-4e54-d81f-6b437df9e2cd",
        "colab": {
          "base_uri": "https://localhost:8080/",
          "height": 35
        }
      },
      "source": [
        "print(\"precision with FGSM attack from one neural network:\",evaluate_n_members(ensemble_same_struct,3,ad_attack_one,y_test))"
      ],
      "execution_count": null,
      "outputs": [
        {
          "output_type": "stream",
          "text": [
            "precision with FGSM attack from one neural network: 0.7066\n"
          ],
          "name": "stdout"
        }
      ]
    },
    {
      "cell_type": "code",
      "metadata": {
        "id": "LyeTMBwZ43FJ"
      },
      "source": [
        "#gernerate FGSM attack based on the average of the gradients of all neural network\n",
        "ad_attack_all = adversarial_attack_modelSet(ensemble_same_struct,x_test,y_test)"
      ],
      "execution_count": null,
      "outputs": []
    },
    {
      "cell_type": "code",
      "metadata": {
        "id": "C8Wc-1_X5Ukr",
        "outputId": "7d90ea07-e50f-416d-ca53-105859313322",
        "colab": {
          "base_uri": "https://localhost:8080/",
          "height": 35
        }
      },
      "source": [
        "print(\"precision with average FGSM attack from all neural network:\",evaluate_n_members(ensemble_same_struct,3,ad_attack_all,y_test))"
      ],
      "execution_count": null,
      "outputs": [
        {
          "output_type": "stream",
          "text": [
            "precision with average FGSM attack from all neural network: 0.7352\n"
          ],
          "name": "stdout"
        }
      ]
    },
    {
      "cell_type": "markdown",
      "metadata": {
        "id": "i2_vDH_j7C94"
      },
      "source": [
        "#multiple classifiers with different structure neural network architectures"
      ]
    },
    {
      "cell_type": "code",
      "metadata": {
        "id": "GmbWhQXY7K-E",
        "outputId": "95fabba2-1e4a-4807-8ebc-f2da8a0c26ae",
        "colab": {
          "base_uri": "https://localhost:8080/",
          "height": 1000
        }
      },
      "source": [
        "#different structure network\n",
        "def ensemble_diff_struct():\n",
        "  model1 = create_model()\n",
        "  model1.fit(x_train, y_train,batch_size=32,epochs=10)\n",
        "  model2 = create_model2()\n",
        "  model2.fit(x_train, y_train,batch_size=32,epochs=10)\n",
        "  model3 = create_model3()\n",
        "  model3.fit(x_train, y_train,batch_size=32,epochs=10)\n",
        "  return [model1,model2,model3]\n",
        "m2_base,m2_attack1,m2_attack_all=[],[],[]\n",
        "for i in range(times):\n",
        "  ensemble_diff_structs = ensemble_diff_struct()\n",
        "  base = evaluate_n_members(ensemble_diff_structs,3,x_test,y_test)\n",
        "  ad_attack_one = adversarial_attack(ensemble_diff_structs[0],x_test,y_test)\n",
        "  p1=evaluate_n_members(ensemble_diff_structs,3,ad_attack_one,y_test)\n",
        "  ad_attack_all = adversarial_attack_modelSet(ensemble_diff_structs,x_test,y_test)\n",
        "  p2=evaluate_n_members(ensemble_diff_structs,3,ad_attack_all,y_test)\n",
        "  m2_base.append(base)\n",
        "  m2_attack1.append(p1)\n",
        "  m2_attack_all.append(p2)"
      ],
      "execution_count": null,
      "outputs": [
        {
          "output_type": "stream",
          "text": [
            "Epoch 1/10\n",
            "1875/1875 [==============================] - 5s 2ms/step - loss: 0.0244 - accuracy: 0.8260\n",
            "Epoch 2/10\n",
            "1875/1875 [==============================] - 5s 2ms/step - loss: 0.0101 - accuracy: 0.9350\n",
            "Epoch 3/10\n",
            "1875/1875 [==============================] - 5s 2ms/step - loss: 0.0080 - accuracy: 0.9485\n",
            "Epoch 4/10\n",
            "1875/1875 [==============================] - 5s 2ms/step - loss: 0.0069 - accuracy: 0.9552\n",
            "Epoch 5/10\n",
            "1875/1875 [==============================] - 5s 2ms/step - loss: 0.0061 - accuracy: 0.9612\n",
            "Epoch 6/10\n",
            "1875/1875 [==============================] - 5s 2ms/step - loss: 0.0056 - accuracy: 0.9649\n",
            "Epoch 7/10\n",
            "1875/1875 [==============================] - 5s 2ms/step - loss: 0.0055 - accuracy: 0.9648\n",
            "Epoch 8/10\n",
            "1875/1875 [==============================] - 5s 2ms/step - loss: 0.0049 - accuracy: 0.9689\n",
            "Epoch 9/10\n",
            "1875/1875 [==============================] - 5s 2ms/step - loss: 0.0049 - accuracy: 0.9693\n",
            "Epoch 10/10\n",
            "1875/1875 [==============================] - 5s 2ms/step - loss: 0.0046 - accuracy: 0.9713\n",
            "Epoch 1/10\n",
            "1875/1875 [==============================] - 3s 2ms/step - loss: 0.0121 - accuracy: 0.9204\n",
            "Epoch 2/10\n",
            "1875/1875 [==============================] - 3s 2ms/step - loss: 0.0059 - accuracy: 0.9631\n",
            "Epoch 3/10\n",
            "1875/1875 [==============================] - 3s 2ms/step - loss: 0.0044 - accuracy: 0.9726\n",
            "Epoch 4/10\n",
            "1875/1875 [==============================] - 3s 2ms/step - loss: 0.0034 - accuracy: 0.9789\n",
            "Epoch 5/10\n",
            "1875/1875 [==============================] - 3s 2ms/step - loss: 0.0028 - accuracy: 0.9828\n",
            "Epoch 6/10\n",
            "1875/1875 [==============================] - 3s 2ms/step - loss: 0.0024 - accuracy: 0.9856\n",
            "Epoch 7/10\n",
            "1875/1875 [==============================] - 3s 2ms/step - loss: 0.0021 - accuracy: 0.9874\n",
            "Epoch 8/10\n",
            "1875/1875 [==============================] - 3s 2ms/step - loss: 0.0018 - accuracy: 0.9894\n",
            "Epoch 9/10\n",
            "1875/1875 [==============================] - 3s 2ms/step - loss: 0.0016 - accuracy: 0.9906\n",
            "Epoch 10/10\n",
            "1875/1875 [==============================] - 3s 2ms/step - loss: 0.0015 - accuracy: 0.9912\n",
            "Epoch 1/10\n",
            "1875/1875 [==============================] - 4s 2ms/step - loss: 0.1700 - accuracy: 0.9478\n",
            "Epoch 2/10\n",
            "1875/1875 [==============================] - 4s 2ms/step - loss: 0.0574 - accuracy: 0.9828\n",
            "Epoch 3/10\n",
            "1875/1875 [==============================] - 4s 2ms/step - loss: 0.0359 - accuracy: 0.9889\n",
            "Epoch 4/10\n",
            "1875/1875 [==============================] - 4s 2ms/step - loss: 0.0240 - accuracy: 0.9926\n",
            "Epoch 5/10\n",
            "1875/1875 [==============================] - 4s 2ms/step - loss: 0.0174 - accuracy: 0.9945\n",
            "Epoch 6/10\n",
            "1875/1875 [==============================] - 4s 2ms/step - loss: 0.0119 - accuracy: 0.9964\n",
            "Epoch 7/10\n",
            "1875/1875 [==============================] - 4s 2ms/step - loss: 0.0077 - accuracy: 0.9980\n",
            "Epoch 8/10\n",
            "1875/1875 [==============================] - 4s 2ms/step - loss: 0.0051 - accuracy: 0.9988\n",
            "Epoch 9/10\n",
            "1875/1875 [==============================] - 4s 2ms/step - loss: 0.0030 - accuracy: 0.9996\n",
            "Epoch 10/10\n",
            "1875/1875 [==============================] - 4s 2ms/step - loss: 0.0020 - accuracy: 0.9998\n"
          ],
          "name": "stdout"
        }
      ]
    },
    {
      "cell_type": "code",
      "metadata": {
        "id": "7zKbtKzY7Ul_",
        "outputId": "2b58337a-4b70-402f-da21-b39db018c98a",
        "colab": {
          "base_uri": "https://localhost:8080/",
          "height": 54
        }
      },
      "source": [
        "print(\"precision of the ensemble learning based on three different structure neural networks \")\n",
        "print(\"precision without FGSM attack:\",evaluate_n_members(ensemble_diff_structs,3,x_test,y_test))"
      ],
      "execution_count": null,
      "outputs": [
        {
          "output_type": "stream",
          "text": [
            "precision of the ensemble learning based on three different structure neural networks \n",
            "precision without FGSM attack: 0.989\n"
          ],
          "name": "stdout"
        }
      ]
    },
    {
      "cell_type": "code",
      "metadata": {
        "id": "o8CJkDtU7qsI"
      },
      "source": [
        "#gernerate FGSM attack based on the gradient of one neural network \n",
        "ad_attack_one = adversarial_attack(ensemble_diff_structs[0],x_test,y_test)"
      ],
      "execution_count": null,
      "outputs": []
    },
    {
      "cell_type": "code",
      "metadata": {
        "id": "-MZAG67p7wFU",
        "outputId": "f3abe832-5e08-4ddf-b123-a36feb462f2d",
        "colab": {
          "base_uri": "https://localhost:8080/",
          "height": 35
        }
      },
      "source": [
        "print(\"precision with gradient attack from one neural network:\",evaluate_n_members(ensemble_diff_structs,3,ad_attack_one,y_test))"
      ],
      "execution_count": null,
      "outputs": [
        {
          "output_type": "stream",
          "text": [
            "precision with gradient attack from one neural network: 0.9103\n"
          ],
          "name": "stdout"
        }
      ]
    },
    {
      "cell_type": "code",
      "metadata": {
        "id": "trwEyE9N70AT"
      },
      "source": [
        "#gernerate FGSM attack based on the average of the gradients of all neural network\n",
        "ad_attack_all = adversarial_attack_modelSet(ensemble_diff_structs,x_test,y_test)"
      ],
      "execution_count": null,
      "outputs": []
    },
    {
      "cell_type": "code",
      "metadata": {
        "id": "cXVZ86eC70MT",
        "outputId": "642d7163-eabf-4f4c-f1bf-83e722e4ed75",
        "colab": {
          "base_uri": "https://localhost:8080/",
          "height": 35
        }
      },
      "source": [
        "print(\"precision with average gradient attack from all neural network:\",evaluate_n_members(ensemble_diff_structs,3,ad_attack_all,y_test))"
      ],
      "execution_count": null,
      "outputs": [
        {
          "output_type": "stream",
          "text": [
            "precision with average gradient attack from all neural network: 0.7994\n"
          ],
          "name": "stdout"
        }
      ]
    },
    {
      "cell_type": "markdown",
      "metadata": {
        "id": "S7GSbPUZfczl"
      },
      "source": [
        "As for FGSM attack, multiple classifiers with different structure neural network architectures are more robust than that with same structure neural network"
      ]
    },
    {
      "cell_type": "markdown",
      "metadata": {
        "id": "n6wh_QmfGYex"
      },
      "source": [
        "#Random Splits Ensemble \n",
        "We can use the train_test_split() function from the scikit-learn library to create a random split of a dataset into train and test sets. In that case, models within ensemble will fit different train set."
      ]
    },
    {
      "cell_type": "markdown",
      "metadata": {
        "id": "bu_Ba5SSGbfL"
      },
      "source": [
        "### same structure neural network"
      ]
    },
    {
      "cell_type": "code",
      "metadata": {
        "id": "hXYm3JFD8FXH",
        "outputId": "1572d501-9b47-4887-b214-d83aaac035c5",
        "colab": {
          "base_uri": "https://localhost:8080/",
          "height": 1000
        }
      },
      "source": [
        "m3_base,m3_attack1,m3_attack_all=[],[],[]\n",
        "for i in range(times):\n",
        "\tn_members = 3\n",
        "\tensemble_same_struct_random_split = []\n",
        "\tn_splits = 3\n",
        "\tscores, members = list(), list()\n",
        "\tfor _ in range(n_splits):\n",
        "\t\t# split data\n",
        "\t\ttrainX, testX, trainy, testy = train_test_split(x_train, y_train, test_size=0.20)\n",
        "\t\t# fit model\n",
        "\t\tmodel=fit_model(trainX, trainy)\n",
        "\t\tensemble_same_struct_random_split.append(model)\n",
        "\tbase=evaluate_n_members(ensemble_same_struct_random_split,3,x_test,y_test)\n",
        "\tad_attack_one = adversarial_attack(ensemble_same_struct_random_split[0],x_test,y_test)\n",
        "\tp1=evaluate_n_members(ensemble_same_struct_random_split,3,ad_attack_one,y_test)\n",
        "\tad_attack_all = adversarial_attack_modelSet(ensemble_same_struct_random_split,x_test,y_test)\n",
        "\tp2=evaluate_n_members(ensemble_same_struct_random_split,3,ad_attack_all,y_test)\n",
        "\tm3_base.append(base)\n",
        "\tm3_attack1.append(p1)\n",
        "\tm3_attack_all.append(p2)"
      ],
      "execution_count": null,
      "outputs": [
        {
          "output_type": "stream",
          "text": [
            "Epoch 1/10\n",
            "1500/1500 [==============================] - 4s 3ms/step - loss: 0.0283 - accuracy: 0.7977\n",
            "Epoch 2/10\n",
            "1500/1500 [==============================] - 4s 3ms/step - loss: 0.0121 - accuracy: 0.9212\n",
            "Epoch 3/10\n",
            "1500/1500 [==============================] - 4s 3ms/step - loss: 0.0096 - accuracy: 0.9381\n",
            "Epoch 4/10\n",
            "1500/1500 [==============================] - 4s 2ms/step - loss: 0.0085 - accuracy: 0.9452\n",
            "Epoch 5/10\n",
            "1500/1500 [==============================] - 4s 2ms/step - loss: 0.0075 - accuracy: 0.9511\n",
            "Epoch 6/10\n",
            "1500/1500 [==============================] - 4s 2ms/step - loss: 0.0068 - accuracy: 0.9565\n",
            "Epoch 7/10\n",
            "1500/1500 [==============================] - 4s 2ms/step - loss: 0.0063 - accuracy: 0.9597\n",
            "Epoch 8/10\n",
            "1500/1500 [==============================] - 4s 2ms/step - loss: 0.0060 - accuracy: 0.9611\n",
            "Epoch 9/10\n",
            "1500/1500 [==============================] - 4s 2ms/step - loss: 0.0056 - accuracy: 0.9640\n",
            "Epoch 10/10\n",
            "1500/1500 [==============================] - 4s 2ms/step - loss: 0.0053 - accuracy: 0.9659\n",
            "Epoch 1/10\n",
            "1500/1500 [==============================] - 4s 2ms/step - loss: 0.0301 - accuracy: 0.7793\n",
            "Epoch 2/10\n",
            "1500/1500 [==============================] - 4s 2ms/step - loss: 0.0124 - accuracy: 0.9202\n",
            "Epoch 3/10\n",
            "1500/1500 [==============================] - 4s 2ms/step - loss: 0.0097 - accuracy: 0.9365\n",
            "Epoch 4/10\n",
            "1500/1500 [==============================] - 4s 2ms/step - loss: 0.0081 - accuracy: 0.9481\n",
            "Epoch 5/10\n",
            "1500/1500 [==============================] - 4s 2ms/step - loss: 0.0073 - accuracy: 0.9531\n",
            "Epoch 6/10\n",
            "1500/1500 [==============================] - 4s 2ms/step - loss: 0.0067 - accuracy: 0.9570\n",
            "Epoch 7/10\n",
            "1500/1500 [==============================] - 4s 2ms/step - loss: 0.0062 - accuracy: 0.9608\n",
            "Epoch 8/10\n",
            "1500/1500 [==============================] - 4s 2ms/step - loss: 0.0059 - accuracy: 0.9621\n",
            "Epoch 9/10\n",
            "1500/1500 [==============================] - 4s 2ms/step - loss: 0.0056 - accuracy: 0.9644\n",
            "Epoch 10/10\n",
            "1500/1500 [==============================] - 4s 3ms/step - loss: 0.0052 - accuracy: 0.9674\n",
            "Epoch 1/10\n",
            "1500/1500 [==============================] - 4s 3ms/step - loss: 0.0276 - accuracy: 0.7990\n",
            "Epoch 2/10\n",
            "1500/1500 [==============================] - 4s 3ms/step - loss: 0.0114 - accuracy: 0.9255\n",
            "Epoch 3/10\n",
            "1500/1500 [==============================] - 4s 3ms/step - loss: 0.0091 - accuracy: 0.9414\n",
            "Epoch 4/10\n",
            "1500/1500 [==============================] - 4s 3ms/step - loss: 0.0077 - accuracy: 0.9506\n",
            "Epoch 5/10\n",
            "1500/1500 [==============================] - 4s 2ms/step - loss: 0.0070 - accuracy: 0.9556\n",
            "Epoch 6/10\n",
            "1500/1500 [==============================] - 4s 2ms/step - loss: 0.0065 - accuracy: 0.9583\n",
            "Epoch 7/10\n",
            "1500/1500 [==============================] - 4s 2ms/step - loss: 0.0060 - accuracy: 0.9617\n",
            "Epoch 8/10\n",
            "1500/1500 [==============================] - 4s 2ms/step - loss: 0.0056 - accuracy: 0.9644\n",
            "Epoch 9/10\n",
            "1500/1500 [==============================] - 4s 2ms/step - loss: 0.0053 - accuracy: 0.9662\n",
            "Epoch 10/10\n",
            "1500/1500 [==============================] - 4s 2ms/step - loss: 0.0050 - accuracy: 0.9681\n"
          ],
          "name": "stdout"
        }
      ]
    },
    {
      "cell_type": "code",
      "metadata": {
        "id": "2nQkHYXfIBoH",
        "outputId": "b23afa39-dd55-4774-b309-692c7ada4acb",
        "colab": {
          "base_uri": "https://localhost:8080/",
          "height": 54
        }
      },
      "source": [
        "print(\"precision of the ensemble learning based on three same structure neural networks \")\n",
        "print(\"precision without FGSM attack:\",evaluate_n_members(ensemble_same_struct_random_split,3,x_test,y_test))"
      ],
      "execution_count": null,
      "outputs": [
        {
          "output_type": "stream",
          "text": [
            "precision of the ensemble learning based on three same structure neural networks \n",
            "precision without FGSM attack: 0.9791\n"
          ],
          "name": "stdout"
        }
      ]
    },
    {
      "cell_type": "code",
      "metadata": {
        "id": "TPLotkBFIWV-"
      },
      "source": [
        "#gernerate FGSM attack based on the gradient of one neural network \n",
        "ad_attack_one = adversarial_attack(ensemble_same_struct_random_split[0],x_test,y_test)"
      ],
      "execution_count": null,
      "outputs": []
    },
    {
      "cell_type": "code",
      "metadata": {
        "id": "cj3nviE4Ie98",
        "outputId": "a7bf95d2-e806-446c-bdb2-8d1d856f7e2e",
        "colab": {
          "base_uri": "https://localhost:8080/",
          "height": 35
        }
      },
      "source": [
        "print(\"precision with gradient attack from one neural network:\",evaluate_n_members(ensemble_same_struct_random_split,3,ad_attack_one,y_test))"
      ],
      "execution_count": null,
      "outputs": [
        {
          "output_type": "stream",
          "text": [
            "precision with gradient attack from one neural network: 0.7393\n"
          ],
          "name": "stdout"
        }
      ]
    },
    {
      "cell_type": "code",
      "metadata": {
        "id": "Og-6weBDIked"
      },
      "source": [
        "#gernerate FGSM attack based on the average of the gradients of all neural network\n",
        "ad_attack_all = adversarial_attack_modelSet(ensemble_same_struct_random_split,x_test,y_test)"
      ],
      "execution_count": null,
      "outputs": []
    },
    {
      "cell_type": "code",
      "metadata": {
        "id": "GH_dmJNwIkou",
        "outputId": "ac8e15ab-f411-4166-c265-8fa711281eb3",
        "colab": {
          "base_uri": "https://localhost:8080/",
          "height": 35
        }
      },
      "source": [
        "print(\"precision with average gradient attack from all neural network:\",evaluate_n_members(ensemble_same_struct_random_split,3,ad_attack_all,y_test))"
      ],
      "execution_count": null,
      "outputs": [
        {
          "output_type": "stream",
          "text": [
            "precision with average gradient attack from all neural network: 0.7436\n"
          ],
          "name": "stdout"
        }
      ]
    },
    {
      "cell_type": "markdown",
      "metadata": {
        "id": "-3edUrkilHdc"
      },
      "source": [
        "As we can see, the performance of Random Splits Ensemble is close to the original ensemble with multiple same structure classifiers "
      ]
    },
    {
      "cell_type": "markdown",
      "metadata": {
        "id": "VQQS9TeNNY2T"
      },
      "source": [
        "#K-fold Cross-Validation Ensemble\n",
        "The method is less biased because each example in the dataset is only used one time in the test dataset to estimate model performance, unlike random train-test splits where a given example may be used to evaluate a model many times."
      ]
    },
    {
      "cell_type": "code",
      "metadata": {
        "id": "moXI8u54NpNJ",
        "outputId": "bb1c326d-ea09-435b-fe8a-6ef4cdec3306",
        "colab": {
          "base_uri": "https://localhost:8080/",
          "height": 1000
        }
      },
      "source": [
        "m4_base,m4_attack1,m4_attack_all=[],[],[]\n",
        "for i in range(times):\n",
        "\tn_folds = 3\n",
        "\tensemble_same_struct_k_fold=[]\n",
        "\tkfold = KFold(n_folds, True, 1)\n",
        "\t# cross validation estimation of performance\n",
        "\tscores, members = list(), list()\n",
        "\tfor train_ix, test_ix in kfold.split(x_train):\n",
        "\t\t# select samples\n",
        "\t\ttrainX, trainy = x_train[train_ix], y_train[train_ix]\n",
        "\t\t# evaluate model\n",
        "\t\tmodel = fit_model(trainX, trainy)\n",
        "\t\tensemble_same_struct_k_fold.append(model)\n",
        "\tbase = evaluate_n_members(ensemble_same_struct_k_fold,3,x_test,y_test)\n",
        "\tad_attack_one = adversarial_attack(ensemble_same_struct_k_fold[0],x_test,y_test)\n",
        "\tp1=evaluate_n_members(ensemble_same_struct_k_fold,3,ad_attack_one,y_test)\n",
        "\tad_attack_all = adversarial_attack_modelSet(ensemble_same_struct_k_fold,x_test,y_test)\n",
        "\tp2=evaluate_n_members(ensemble_same_struct_k_fold,3,ad_attack_all,y_test)\n",
        "\tm4_base.append(base)\n",
        "\tm4_attack1.append(p1)\n",
        "\tm4_attack_all.append(p2)"
      ],
      "execution_count": null,
      "outputs": [
        {
          "output_type": "stream",
          "text": [
            "Epoch 1/10\n",
            "1250/1250 [==============================] - 3s 2ms/step - loss: 0.0299 - accuracy: 0.7811\n",
            "Epoch 2/10\n",
            "1250/1250 [==============================] - 3s 2ms/step - loss: 0.0123 - accuracy: 0.9206\n",
            "Epoch 3/10\n",
            "1250/1250 [==============================] - 3s 3ms/step - loss: 0.0095 - accuracy: 0.9384\n",
            "Epoch 4/10\n",
            "1250/1250 [==============================] - 3s 3ms/step - loss: 0.0081 - accuracy: 0.9476\n",
            "Epoch 5/10\n",
            "1250/1250 [==============================] - 3s 2ms/step - loss: 0.0074 - accuracy: 0.9528\n",
            "Epoch 6/10\n",
            "1250/1250 [==============================] - 3s 2ms/step - loss: 0.0068 - accuracy: 0.9571\n",
            "Epoch 7/10\n",
            "1250/1250 [==============================] - 3s 2ms/step - loss: 0.0063 - accuracy: 0.9593\n",
            "Epoch 8/10\n",
            "1250/1250 [==============================] - 3s 2ms/step - loss: 0.0059 - accuracy: 0.9625\n",
            "Epoch 9/10\n",
            "1250/1250 [==============================] - 3s 2ms/step - loss: 0.0055 - accuracy: 0.9653\n",
            "Epoch 10/10\n",
            "1250/1250 [==============================] - 3s 2ms/step - loss: 0.0052 - accuracy: 0.9668\n",
            "Epoch 1/10\n",
            "1250/1250 [==============================] - 3s 2ms/step - loss: 0.0312 - accuracy: 0.7683\n",
            "Epoch 2/10\n",
            "1250/1250 [==============================] - 3s 2ms/step - loss: 0.0132 - accuracy: 0.9139\n",
            "Epoch 3/10\n",
            "1250/1250 [==============================] - 3s 2ms/step - loss: 0.0100 - accuracy: 0.9369\n",
            "Epoch 4/10\n",
            "1250/1250 [==============================] - 3s 2ms/step - loss: 0.0088 - accuracy: 0.9434\n",
            "Epoch 5/10\n",
            "1250/1250 [==============================] - 3s 2ms/step - loss: 0.0076 - accuracy: 0.9509\n",
            "Epoch 6/10\n",
            "1250/1250 [==============================] - 3s 2ms/step - loss: 0.0068 - accuracy: 0.9556\n",
            "Epoch 7/10\n",
            "1250/1250 [==============================] - 3s 2ms/step - loss: 0.0063 - accuracy: 0.9592\n",
            "Epoch 8/10\n",
            "1250/1250 [==============================] - 3s 2ms/step - loss: 0.0060 - accuracy: 0.9617\n",
            "Epoch 9/10\n",
            "1250/1250 [==============================] - 3s 2ms/step - loss: 0.0057 - accuracy: 0.9637\n",
            "Epoch 10/10\n",
            "1250/1250 [==============================] - 3s 2ms/step - loss: 0.0053 - accuracy: 0.9672\n",
            "Epoch 1/10\n",
            "1250/1250 [==============================] - 3s 2ms/step - loss: 0.0321 - accuracy: 0.7608\n",
            "Epoch 2/10\n",
            "1250/1250 [==============================] - 3s 2ms/step - loss: 0.0128 - accuracy: 0.9159\n",
            "Epoch 3/10\n",
            "1250/1250 [==============================] - 3s 2ms/step - loss: 0.0099 - accuracy: 0.9363\n",
            "Epoch 4/10\n",
            "1250/1250 [==============================] - 3s 3ms/step - loss: 0.0083 - accuracy: 0.9473\n",
            "Epoch 5/10\n",
            "1250/1250 [==============================] - 3s 3ms/step - loss: 0.0075 - accuracy: 0.9516\n",
            "Epoch 6/10\n",
            "1250/1250 [==============================] - 3s 3ms/step - loss: 0.0068 - accuracy: 0.9569\n",
            "Epoch 7/10\n",
            "1250/1250 [==============================] - 3s 2ms/step - loss: 0.0066 - accuracy: 0.9579\n",
            "Epoch 8/10\n",
            "1250/1250 [==============================] - 3s 2ms/step - loss: 0.0059 - accuracy: 0.9625\n",
            "Epoch 9/10\n",
            "1250/1250 [==============================] - 3s 2ms/step - loss: 0.0057 - accuracy: 0.9643\n",
            "Epoch 10/10\n",
            "1250/1250 [==============================] - 3s 2ms/step - loss: 0.0054 - accuracy: 0.9657\n"
          ],
          "name": "stdout"
        }
      ]
    },
    {
      "cell_type": "code",
      "metadata": {
        "id": "kAnRSZdUNpWm",
        "outputId": "c4b262c0-67c4-4b74-f646-5581fd6d2daf",
        "colab": {
          "base_uri": "https://localhost:8080/",
          "height": 54
        }
      },
      "source": [
        "print(\"precision of the ensemble learning based on three same structure neural networks \")\n",
        "print(\"precision without FGSM attack:\",evaluate_n_members(ensemble_same_struct_k_fold,3,x_test,y_test))"
      ],
      "execution_count": null,
      "outputs": [
        {
          "output_type": "stream",
          "text": [
            "precision of the ensemble learning based on three same structure neural networks \n",
            "precision without FGSM attack: 0.979\n"
          ],
          "name": "stdout"
        }
      ]
    },
    {
      "cell_type": "code",
      "metadata": {
        "id": "52wGQQLqSVV8"
      },
      "source": [
        "#gernerate FGSM attack based on the gradient of one neural network \n",
        "ad_attack_one = adversarial_attack(ensemble_same_struct_k_fold[0],x_test,y_test)"
      ],
      "execution_count": null,
      "outputs": []
    },
    {
      "cell_type": "code",
      "metadata": {
        "id": "F2gad3JwSViY",
        "outputId": "3be9e896-55a1-4143-ee31-a66c6e0c0090",
        "colab": {
          "base_uri": "https://localhost:8080/",
          "height": 35
        }
      },
      "source": [
        "print(\"precision with gradient attack from one neural network:\",evaluate_n_members(ensemble_same_struct_k_fold,3,ad_attack_one,y_test))"
      ],
      "execution_count": null,
      "outputs": [
        {
          "output_type": "stream",
          "text": [
            "precision with gradient attack from one neural network: 0.6561\n"
          ],
          "name": "stdout"
        }
      ]
    },
    {
      "cell_type": "code",
      "metadata": {
        "id": "_hQhoOZVNpfF"
      },
      "source": [
        "#gernerate FGSM attack based on the average of the gradients of all neural network\n",
        "ad_attack_all = adversarial_attack_modelSet(ensemble_same_struct_k_fold,x_test,y_test)"
      ],
      "execution_count": null,
      "outputs": []
    },
    {
      "cell_type": "code",
      "metadata": {
        "id": "AwR0tUrCSg1c",
        "outputId": "db6267fd-e7d1-4c51-edc4-15dbfe62ab8b",
        "colab": {
          "base_uri": "https://localhost:8080/",
          "height": 35
        }
      },
      "source": [
        "print(\"precision with average gradient attack from all neural network:\",evaluate_n_members(ensemble_same_struct_k_fold,3,ad_attack_all,y_test))"
      ],
      "execution_count": null,
      "outputs": [
        {
          "output_type": "stream",
          "text": [
            "precision with average gradient attack from all neural network: 0.6554\n"
          ],
          "name": "stdout"
        }
      ]
    },
    {
      "cell_type": "markdown",
      "metadata": {
        "id": "Kg2qaMBwUI9x"
      },
      "source": [
        "#Bagging Ensemble"
      ]
    },
    {
      "cell_type": "code",
      "metadata": {
        "id": "WMhMOnRmUKpY",
        "outputId": "e2dc3ce4-b675-4cb6-c8f8-bdf34a93b162",
        "colab": {
          "base_uri": "https://localhost:8080/",
          "height": 35
        }
      },
      "source": [
        "print(\"len\",len(x_test))"
      ],
      "execution_count": null,
      "outputs": [
        {
          "output_type": "stream",
          "text": [
            "len 10000\n"
          ],
          "name": "stdout"
        }
      ]
    },
    {
      "cell_type": "code",
      "metadata": {
        "id": "1TAEtoVXUKvL",
        "outputId": "0a0a1df3-9dd7-4374-b64a-f852dc9ec36f",
        "colab": {
          "base_uri": "https://localhost:8080/",
          "height": 1000
        }
      },
      "source": [
        "m5_base,m5_attack1,m5_attack_all=[],[],[]\n",
        "for i in range(times):\n",
        "\tn_splits = 3\n",
        "\tensemble_same_struct_bagging=[]\n",
        "\tfor _ in range(n_splits):\n",
        "\t\t# select indexes\n",
        "\t\tX=x_train\n",
        "\t\ty=y_train\n",
        "\t\tix = [i for i in range(len(X))]\n",
        "\t\ttrain_ix = resample(ix, replace=True, n_samples=9000)\n",
        "\t\ttest_ix = [x for x in ix if x not in train_ix]\n",
        "\t\t# select data\n",
        "\t\ttrainX, trainy = X[train_ix], y[train_ix]\n",
        "\t\tmodel = fit_model(trainX, trainy)\n",
        "\t\tensemble_same_struct_bagging.append(model)\n",
        "\tbase = evaluate_n_members(ensemble_same_struct_bagging,3,x_test,y_test)\n",
        "\tad_attack_one = adversarial_attack(ensemble_same_struct_bagging[0],x_test,y_test)\n",
        "\tp1=evaluate_n_members(ensemble_same_struct_bagging,3,ad_attack_one,y_test)\n",
        "\tad_attack_all = adversarial_attack_modelSet(ensemble_same_struct_bagging,x_test,y_test)\n",
        "\tp2=evaluate_n_members(ensemble_same_struct_bagging,3,ad_attack_all,y_test)\n",
        "\tm5_base.append(base)\n",
        "\tm5_attack1.append(p1)\n",
        "\tm5_attack_all.append(p2)"
      ],
      "execution_count": null,
      "outputs": [
        {
          "output_type": "stream",
          "text": [
            "Epoch 1/10\n",
            "282/282 [==============================] - 1s 3ms/step - loss: 0.0589 - accuracy: 0.5217\n",
            "Epoch 2/10\n",
            "282/282 [==============================] - 1s 3ms/step - loss: 0.0299 - accuracy: 0.8011\n",
            "Epoch 3/10\n",
            "282/282 [==============================] - 1s 3ms/step - loss: 0.0206 - accuracy: 0.8662\n",
            "Epoch 4/10\n",
            "282/282 [==============================] - 1s 3ms/step - loss: 0.0170 - accuracy: 0.8907\n",
            "Epoch 5/10\n",
            "282/282 [==============================] - 1s 3ms/step - loss: 0.0141 - accuracy: 0.9103\n",
            "Epoch 6/10\n",
            "282/282 [==============================] - 1s 3ms/step - loss: 0.0124 - accuracy: 0.9204\n",
            "Epoch 7/10\n",
            "282/282 [==============================] - 1s 3ms/step - loss: 0.0113 - accuracy: 0.9260\n",
            "Epoch 8/10\n",
            "282/282 [==============================] - 1s 3ms/step - loss: 0.0103 - accuracy: 0.9352\n",
            "Epoch 9/10\n",
            "282/282 [==============================] - 1s 3ms/step - loss: 0.0099 - accuracy: 0.9370\n",
            "Epoch 10/10\n",
            "282/282 [==============================] - 1s 3ms/step - loss: 0.0087 - accuracy: 0.9437\n",
            "Epoch 1/10\n",
            "282/282 [==============================] - 1s 3ms/step - loss: 0.0615 - accuracy: 0.4918\n",
            "Epoch 2/10\n",
            "282/282 [==============================] - 1s 3ms/step - loss: 0.0314 - accuracy: 0.7880\n",
            "Epoch 3/10\n",
            "282/282 [==============================] - 1s 3ms/step - loss: 0.0222 - accuracy: 0.8511\n",
            "Epoch 4/10\n",
            "282/282 [==============================] - 1s 3ms/step - loss: 0.0178 - accuracy: 0.8833\n",
            "Epoch 5/10\n",
            "282/282 [==============================] - 1s 3ms/step - loss: 0.0148 - accuracy: 0.9031\n",
            "Epoch 6/10\n",
            "282/282 [==============================] - 1s 3ms/step - loss: 0.0130 - accuracy: 0.9163\n",
            "Epoch 7/10\n",
            "282/282 [==============================] - 1s 3ms/step - loss: 0.0118 - accuracy: 0.9250\n",
            "Epoch 8/10\n",
            "282/282 [==============================] - 1s 3ms/step - loss: 0.0108 - accuracy: 0.9314\n",
            "Epoch 9/10\n",
            "282/282 [==============================] - 1s 3ms/step - loss: 0.0102 - accuracy: 0.9342\n",
            "Epoch 10/10\n",
            "282/282 [==============================] - 1s 3ms/step - loss: 0.0091 - accuracy: 0.9428\n",
            "Epoch 1/10\n",
            "282/282 [==============================] - 1s 3ms/step - loss: 0.0585 - accuracy: 0.5170\n",
            "Epoch 2/10\n",
            "282/282 [==============================] - 1s 3ms/step - loss: 0.0293 - accuracy: 0.8001\n",
            "Epoch 3/10\n",
            "282/282 [==============================] - 1s 3ms/step - loss: 0.0223 - accuracy: 0.8510\n",
            "Epoch 4/10\n",
            "282/282 [==============================] - 1s 3ms/step - loss: 0.0182 - accuracy: 0.8796\n",
            "Epoch 5/10\n",
            "282/282 [==============================] - 1s 3ms/step - loss: 0.0150 - accuracy: 0.9026\n",
            "Epoch 6/10\n",
            "282/282 [==============================] - 1s 3ms/step - loss: 0.0135 - accuracy: 0.9123\n",
            "Epoch 7/10\n",
            "282/282 [==============================] - 1s 3ms/step - loss: 0.0123 - accuracy: 0.9193\n",
            "Epoch 8/10\n",
            "282/282 [==============================] - 1s 3ms/step - loss: 0.0108 - accuracy: 0.9299\n",
            "Epoch 9/10\n",
            "282/282 [==============================] - 1s 3ms/step - loss: 0.0103 - accuracy: 0.9343\n",
            "Epoch 10/10\n",
            "282/282 [==============================] - 1s 3ms/step - loss: 0.0095 - accuracy: 0.9381\n"
          ],
          "name": "stdout"
        }
      ]
    },
    {
      "cell_type": "code",
      "metadata": {
        "id": "LvWrzt4eUK2H",
        "outputId": "6057c02d-ecea-4cdb-eee6-e72979625b50",
        "colab": {
          "base_uri": "https://localhost:8080/",
          "height": 54
        }
      },
      "source": [
        "print(\"precision of the ensemble learning based on three same structure neural networks \")\n",
        "print(\"precision without FGSM attack:\",evaluate_n_members(ensemble_same_struct_bagging,3,x_test,y_test))"
      ],
      "execution_count": null,
      "outputs": [
        {
          "output_type": "stream",
          "text": [
            "precision of the ensemble learning based on three same structure neural networks \n",
            "precision without FGSM attack: 0.9594\n"
          ],
          "name": "stdout"
        }
      ]
    },
    {
      "cell_type": "code",
      "metadata": {
        "id": "f8ncWF21UK6h"
      },
      "source": [
        "#gernerate FGSM attack based on the gradient of one neural network \n",
        "ad_attack_one = adversarial_attack(ensemble_same_struct_bagging[0],x_test,y_test)"
      ],
      "execution_count": null,
      "outputs": []
    },
    {
      "cell_type": "code",
      "metadata": {
        "id": "oKbLVBJ3Xl-w",
        "outputId": "b97d9067-cc89-48ef-98a7-aa709ffc7efe",
        "colab": {
          "base_uri": "https://localhost:8080/",
          "height": 35
        }
      },
      "source": [
        "print(\"precision with gradient attack from one neural network:\",evaluate_n_members(ensemble_same_struct_bagging,3,ad_attack_one,y_test))"
      ],
      "execution_count": null,
      "outputs": [
        {
          "output_type": "stream",
          "text": [
            "precision with gradient attack from one neural network: 0.644\n"
          ],
          "name": "stdout"
        }
      ]
    },
    {
      "cell_type": "code",
      "metadata": {
        "id": "9kLU4A7DXmEE"
      },
      "source": [
        "#gernerate FGSM attack based on the average of the gradients of all neural network\n",
        "ad_attack_all = adversarial_attack_modelSet(ensemble_same_struct_bagging,x_test,y_test)"
      ],
      "execution_count": null,
      "outputs": []
    },
    {
      "cell_type": "code",
      "metadata": {
        "id": "B3WQ2NnCXmLl",
        "outputId": "0699476a-9ab2-452b-83bd-499cb5c8d2f1",
        "colab": {
          "base_uri": "https://localhost:8080/",
          "height": 35
        }
      },
      "source": [
        "print(\"precision with average gradient attack from all neural network:\",evaluate_n_members(ensemble_same_struct_bagging,3,ad_attack_all,y_test))"
      ],
      "execution_count": null,
      "outputs": [
        {
          "output_type": "stream",
          "text": [
            "precision with average gradient attack from all neural network: 0.6229\n"
          ],
          "name": "stdout"
        }
      ]
    },
    {
      "cell_type": "markdown",
      "metadata": {
        "id": "2oLJNM8ybD5o"
      },
      "source": [
        "#add some small Gaussian noise to the training data so that all classifiers are trained on a similar but different training set."
      ]
    },
    {
      "cell_type": "code",
      "metadata": {
        "id": "_leQX-_NAZvL"
      },
      "source": [
        "def mnist_normal_noise(noise_factor):\n",
        "  (X_train, y_train), (X_test, y_test) = mnist.load_data()\n",
        "  X_train = X_train.astype('float32')\n",
        "  X_test = X_test.astype('float32')\n",
        "  X_train /= 255\n",
        "  X_test /= 255\n",
        "  #noise_factor = 0.5\n",
        "  x_train_noisy = X_train + noise_factor * np.random.normal(loc=0.0, scale=1.0, size=X_train.shape) \n",
        "  #x_test_noisy = X_test + noise_factor * np.random.normal(loc=0.0, scale=1.0, size=X_test.shape) \n",
        "  x_train_noisy = np.clip(x_train_noisy, 0., 1.)\n",
        "  #x_test_noisy = np.clip(x_test_noisy, 0., 1.)\n",
        "  x_train_noisy = x_train_noisy.reshape((-1, img_rows, img_cols, channels))\n",
        "  X_test = X_test.reshape((-1, img_rows, img_cols, channels))\n",
        "\n",
        "  y_train = tf.keras.utils.to_categorical(y_train, num_classes)\n",
        "  y_test = tf.keras.utils.to_categorical(y_test, num_classes)\n",
        "  return [x_train_noisy,y_train,X_test,y_test]"
      ],
      "execution_count": null,
      "outputs": []
    },
    {
      "cell_type": "code",
      "metadata": {
        "id": "XDucYcv-BKv1"
      },
      "source": [
        "# evaluate a single mlp model\n",
        "def evaluate_model_acc(model,trainX, trainy, testX, testy):\n",
        "\t# encode targets\n",
        "\t#trainy_enc = to_categorical(trainy)\n",
        "\t#testy_enc = to_categorical(testy)\n",
        "\t# fit model\n",
        "\tmodel.fit(trainX, trainy, epochs=10, verbose=0)\n",
        "\t# evaluate the model\n",
        "\t_, test_acc = model.evaluate(testX, testy, verbose=0)\n",
        "\treturn model, test_acc"
      ],
      "execution_count": null,
      "outputs": []
    },
    {
      "cell_type": "markdown",
      "metadata": {
        "id": "mt35uBh8Gqtc"
      },
      "source": [
        "## train single neural network with Gaussian noise data and get its precision"
      ]
    },
    {
      "cell_type": "code",
      "metadata": {
        "id": "UM-MYuCxCKaj",
        "outputId": "ab4c793b-2d85-41b2-dd93-7eaff3285a77",
        "colab": {
          "base_uri": "https://localhost:8080/",
          "height": 35
        }
      },
      "source": [
        "m6_base,m6_attack1=[],[]\n",
        "for i in range(times):\n",
        "  noise_factor = 0.1\n",
        "  [x_train_noisy,y_train_n,x_test_n,y_test_n]=mnist_normal_noise(noise_factor)\n",
        "  model1=create_model()\n",
        "  model1,test_acc = evaluate_model_acc(model1,x_train_noisy,y_train_n,x_test_n,y_test_n)\n",
        "  print(\"fit model1 to mnist with Gaussian noise, precision:\",test_acc)\n",
        "  ad_attack1 = adversarial_attack(model1,x_test_n,y_test_n)\n",
        "  p1=model1.evaluate(x=ad_attack1, y=y_test_n, verbose=0)\n",
        "  m6_base.append(test_acc)\n",
        "  m6_attack1.append(p1)"
      ],
      "execution_count": null,
      "outputs": [
        {
          "output_type": "stream",
          "text": [
            "fit model1 to mnist with Gaussian noise, precision: 0.9750999808311462\n"
          ],
          "name": "stdout"
        }
      ]
    },
    {
      "cell_type": "code",
      "metadata": {
        "id": "ZiH4eqzFFckI",
        "outputId": "eabeefe8-c8e5-4e0c-9c34-d8defc5f4064",
        "colab": {
          "base_uri": "https://localhost:8080/",
          "height": 35
        }
      },
      "source": [
        "ad_attack1 = adversarial_attack(model1,x_test_n,y_test_n)\n",
        "print(\"Base accuracy of the model3 on regular images with FGSM attack\", model1.evaluate(x=ad_attack1, y=y_test_n, verbose=0)) "
      ],
      "execution_count": null,
      "outputs": [
        {
          "output_type": "stream",
          "text": [
            "Base accuracy of the model3 on regular images with FGSM attack [0.08462033420801163, 0.49869999289512634]\n"
          ],
          "name": "stdout"
        }
      ]
    },
    {
      "cell_type": "markdown",
      "metadata": {
        "id": "rKB55fYzI6iP"
      },
      "source": [
        "## train ensemble learning of same structure neural networks with Gaussian noise data and get its precision"
      ]
    },
    {
      "cell_type": "code",
      "metadata": {
        "id": "lfaxKf79JMYn"
      },
      "source": [
        "m7_base,m7_attack1,m7_attack_all=[],[],[]\n",
        "for i in range(times):\n",
        "  n_members = 3\n",
        "  M7=[]\n",
        "  noise_factor = 0.1\n",
        "  for i in range(n_members):\n",
        "    [x_train_noisy,y_train_n,x_test_n,y_test_n]=mnist_normal_noise(noise_factor)\n",
        "    model=create_model()\n",
        "    model,test_acc = evaluate_model_acc(model,x_train_noisy,y_train_n,x_test_n,y_test_n)\n",
        "    M7.append(model)\n",
        "  base = evaluate_n_members(M7,3,x_test,y_test)\n",
        "  ad_attack_one = adversarial_attack(M7[0],x_test,y_test)\n",
        "  p1=evaluate_n_members(M7,3,ad_attack_one,y_test)\n",
        "  ad_attack_all = adversarial_attack_modelSet(M7,x_test,y_test)\n",
        "  p2=evaluate_n_members(M7,3,ad_attack_all,y_test)\n",
        "  m7_base.append(base)\n",
        "  m7_attack1.append(p1)\n",
        "  m7_attack_all.append(p2)"
      ],
      "execution_count": null,
      "outputs": []
    },
    {
      "cell_type": "code",
      "metadata": {
        "id": "3wCw-CAZJMgc",
        "outputId": "019a2136-eb07-4a95-a54e-752a4dec8abc",
        "colab": {
          "base_uri": "https://localhost:8080/",
          "height": 54
        }
      },
      "source": [
        "print(\"precision of the ensemble learning based on three same structure neural networks \")\n",
        "print(\"precision without FGSM attack:\",evaluate_n_members(M7,3,x_test,y_test))"
      ],
      "execution_count": null,
      "outputs": [
        {
          "output_type": "stream",
          "text": [
            "precision of the ensemble learning based on three same structure neural networks \n",
            "precision without FGSM attack: 0.9821\n"
          ],
          "name": "stdout"
        }
      ]
    },
    {
      "cell_type": "code",
      "metadata": {
        "id": "lYFy--ExJMzn"
      },
      "source": [
        "#gernerate FGSM attack based on the gradient of one neural network \n",
        "ad_attack_one = adversarial_attack(M7[0],x_test,y_test)"
      ],
      "execution_count": null,
      "outputs": []
    },
    {
      "cell_type": "code",
      "metadata": {
        "id": "F6YSLoQpKWB0",
        "outputId": "d7584c03-f4cf-47b9-cf80-df39d26d49f5",
        "colab": {
          "base_uri": "https://localhost:8080/",
          "height": 35
        }
      },
      "source": [
        "print(\"precision with gradient attack from one neural network:\",evaluate_n_members(M7,3,ad_attack_one,y_test))"
      ],
      "execution_count": null,
      "outputs": [
        {
          "output_type": "stream",
          "text": [
            "precision with gradient attack from one neural network: 0.7988\n"
          ],
          "name": "stdout"
        }
      ]
    },
    {
      "cell_type": "code",
      "metadata": {
        "id": "DlpAEMlrKZoY"
      },
      "source": [
        "#gernerate FGSM attack based on the average of the gradients of all neural network\n",
        "ad_attack_all = adversarial_attack_modelSet(M7,x_test,y_test)"
      ],
      "execution_count": null,
      "outputs": []
    },
    {
      "cell_type": "code",
      "metadata": {
        "id": "ZBUvXqc9KZ1J",
        "outputId": "befe26db-dba7-4946-d6a9-1b57870faaa8",
        "colab": {
          "base_uri": "https://localhost:8080/",
          "height": 35
        }
      },
      "source": [
        "print(\"precision with average gradient attack from all neural network:\",evaluate_n_members(M7,3,ad_attack_all,y_test))"
      ],
      "execution_count": null,
      "outputs": [
        {
          "output_type": "stream",
          "text": [
            "precision with average gradient attack from all neural network: 0.8086\n"
          ],
          "name": "stdout"
        }
      ]
    },
    {
      "cell_type": "markdown",
      "metadata": {
        "id": "zMH6ccIn-fmt"
      },
      "source": [
        "#ensemble of neural network, SGD and random forest"
      ]
    },
    {
      "cell_type": "code",
      "metadata": {
        "id": "3tRoQsOvoNyW"
      },
      "source": [
        "from sklearn.linear_model import SGDClassifier\n",
        "from sklearn.ensemble import RandomForestClassifier\n",
        "\n",
        "img_rows, img_cols, channels = 28, 28, 1\n",
        "num_classes = 10\n",
        "\n",
        "def train_component_neural(trainx,trainy):\n",
        "  #Preprocess data\n",
        "  x_train1 = trainx.reshape((-1, img_rows, img_cols, channels))\n",
        "  y_train1 = tf.keras.utils.to_categorical(trainy, num_classes)\n",
        "  #create and fit model\n",
        "  model1 = create_model()\n",
        "  model1.fit(x_train1, y_train1,\n",
        "            batch_size=32,\n",
        "            epochs=10)\n",
        "  return model1\n",
        "\n",
        "def predict_evaulate_component_neural(model,x_test,y_test):\n",
        "  #preprocess data\n",
        "  x_test = x_test.reshape((-1, img_rows, img_cols, channels))\n",
        "  #create and fit model\n",
        "  yhats=model.predict(x_test)\n",
        "  pred3 = [item.argmax() for item in yhats]\n",
        "  print(\"neural network accuracy: \",accuracy_score(pred3, y_test))\n",
        "  return pred3\n",
        "\n",
        "def create_adverserial(model,x_test,y_test):\n",
        "  x_test = x_test.reshape((-1, img_rows, img_cols, channels))\n",
        "  y_test = tf.keras.utils.to_categorical(y_test, num_classes)\n",
        "  ad_attack1 = adversarial_attack(model,x_test,y_test)\n",
        "  print(\"Base accuracy on regular images with FGSM attack\", model1.evaluate(x=ad_attack1, y=y_test, verbose=0)[1]) \n",
        "  return ad_attack1\n",
        "\n",
        "def train_component_SGD(trainx,trainy):\n",
        "  train_length = len(trainx)\n",
        "  train_data = trainx.reshape((train_length, -1))\n",
        "  sgd_clf = SGDClassifier()\n",
        "  sgd_clf.fit(train_data,y_train_svm)\n",
        "  return sgd_clf\n",
        "\n",
        "def predict_evaulate_component_SGD(model,x_test,y_test):\n",
        "  test_length = len(x_test)\n",
        "  x_test = x_test.reshape((test_length, -1))\n",
        "  res= model.predict(x_test)\n",
        "  print(\"SGD accuracy: \",accuracy_score(res, y_test))\n",
        "  return res\n",
        "\n",
        "def train_component_RandForest(trainx,trainy):\n",
        "  train_length = len(trainx)\n",
        "  train_data = trainx.reshape((train_length, -1))\n",
        "  forest_clf = RandomForestClassifier(random_state=42)\n",
        "  forest_clf.fit(train_data,y_train_svm)\n",
        "  return forest_clf\n",
        "\n",
        "def predict_evaulate_component_RandForest(model,x_test,y_test):\n",
        "  test_length = len(x_test)\n",
        "  x_test = x_test.reshape((test_length, -1))\n",
        "  res= model.predict(x_test)\n",
        "  print(\"RandForest accuracy: \",accuracy_score(res, y_test))\n",
        "  return res\n",
        "\n",
        "def majority_vote(members,x_test,y_test):\n",
        "  threshold=len(members)//2\n",
        "  pred = [predict_evaulate_component_neural(members[0],x_test,y_test)]\n",
        "  pred.append(predict_evaulate_component_SGD(members[1],x_test,y_test))\n",
        "  pred.append(predict_evaulate_component_RandForest(members[2],x_test,y_test))\n",
        "  hit=0\n",
        "  for i in range(len(y_test)):\n",
        "    cnt=0\n",
        "    for j in range(len(members)):\n",
        "      if(pred[j][i]==y_test[i]):\n",
        "        cnt+=1\n",
        "    if(cnt>threshold):\n",
        "      hit+=1\n",
        "  return hit*1.0/len(y_test)\n"
      ],
      "execution_count": null,
      "outputs": []
    },
    {
      "cell_type": "markdown",
      "metadata": {
        "id": "IWLL8No7EOjm"
      },
      "source": [
        "#transferability of adversarial attack\n",
        "explore the attack effect of neural network targeted FGSM on Random Forest and Stochastic Gradient Descent Classifiers  "
      ]
    },
    {
      "cell_type": "code",
      "metadata": {
        "id": "SVnzE4kFyu2E",
        "outputId": "9d015241-9300-41ac-e054-737ee709882a",
        "colab": {
          "base_uri": "https://localhost:8080/",
          "height": 417
        }
      },
      "source": [
        "# generate FGSM attack targeted for the neural network \n",
        "(x_train_svm, y_train_svm), (x_test_svm, y_test_svm) = mnist.load_data()\n",
        "x_train_svm = x_train_svm / 255\n",
        "x_test_svm = x_test_svm / 255\n",
        "part=train_component_neural(x_train_svm,y_train_svm)\n",
        "pred=predict_evaulate_component_neural(part,x_test_svm,y_test_svm)\n",
        "\n",
        "attack=create_adverserial(part,x_test_svm,y_test_svm)\n"
      ],
      "execution_count": null,
      "outputs": [
        {
          "output_type": "stream",
          "text": [
            "Epoch 1/10\n",
            "1875/1875 [==============================] - 5s 3ms/step - loss: 0.0277 - accuracy: 0.7952\n",
            "Epoch 2/10\n",
            "1875/1875 [==============================] - 5s 3ms/step - loss: 0.0108 - accuracy: 0.9312\n",
            "Epoch 3/10\n",
            "1875/1875 [==============================] - 5s 3ms/step - loss: 0.0084 - accuracy: 0.9457\n",
            "Epoch 4/10\n",
            "1875/1875 [==============================] - 5s 3ms/step - loss: 0.0072 - accuracy: 0.9543\n",
            "Epoch 5/10\n",
            "1875/1875 [==============================] - 5s 3ms/step - loss: 0.0067 - accuracy: 0.9571\n",
            "Epoch 6/10\n",
            "1875/1875 [==============================] - 5s 3ms/step - loss: 0.0061 - accuracy: 0.9614\n",
            "Epoch 7/10\n",
            "1875/1875 [==============================] - 5s 3ms/step - loss: 0.0057 - accuracy: 0.9637\n",
            "Epoch 8/10\n",
            "1875/1875 [==============================] - 5s 3ms/step - loss: 0.0053 - accuracy: 0.9666\n",
            "Epoch 9/10\n",
            "1875/1875 [==============================] - 5s 3ms/step - loss: 0.0051 - accuracy: 0.9676\n",
            "Epoch 10/10\n",
            "1875/1875 [==============================] - 5s 3ms/step - loss: 0.0048 - accuracy: 0.9696\n",
            "neural network accuracy:  0.9734\n",
            "Base accuracy on regular images with FGSM attack 0.815500020980835\n"
          ],
          "name": "stdout"
        }
      ]
    },
    {
      "cell_type": "code",
      "metadata": {
        "id": "a6qX9er51Oxn",
        "outputId": "d9d7417a-8425-4398-a72a-cea294f56bca",
        "colab": {
          "base_uri": "https://localhost:8080/",
          "height": 90
        }
      },
      "source": [
        "part2=train_component_SGD(x_train_svm,y_train_svm)\n",
        "print(\"Stochastic Gradient Descent Classifier precision before FGSM attack:\")\n",
        "pred2=predict_evaulate_component_SGD(part2,x_test_svm,y_test_svm)\n",
        "print(\"Stochastic Gradient Descent Classifier precision after FGSM attack:\")\n",
        "pred2=predict_evaulate_component_SGD(part2,attack,y_test_svm)"
      ],
      "execution_count": null,
      "outputs": [
        {
          "output_type": "stream",
          "text": [
            "Stochastic Gradient Descent Classifier precision before FGSM attack:\n",
            "SGD accuracy:  0.9154\n",
            "Stochastic Gradient Descent Classifier precision after FGSM attack:\n",
            "SGD accuracy:  0.7947\n"
          ],
          "name": "stdout"
        }
      ]
    },
    {
      "cell_type": "code",
      "metadata": {
        "id": "JeFbJGNe3ayf",
        "outputId": "04e9f3a9-1a39-476d-e7fc-e1e0b8849681",
        "colab": {
          "base_uri": "https://localhost:8080/",
          "height": 90
        }
      },
      "source": [
        "part3=train_component_RandForest(x_train_svm,y_train_svm)\n",
        "print(\"Random Forest Classifier precision before FGSM attack:\")\n",
        "pred3=predict_evaulate_component_RandForest(part3,x_test_svm,y_test_svm)\n",
        "print(\"Random Forest Classifier precision after FGSM attack:\")\n",
        "pred3=predict_evaulate_component_RandForest(part3,attack,y_test_svm)"
      ],
      "execution_count": null,
      "outputs": [
        {
          "output_type": "stream",
          "text": [
            "Random Forest Classifier precision before FGSM attack:\n",
            "RandForest accuracy:  0.9704\n",
            "Random Forest Classifier precision after FGSM attack:\n",
            "RandForest accuracy:  0.5345\n"
          ],
          "name": "stdout"
        }
      ]
    },
    {
      "cell_type": "code",
      "metadata": {
        "id": "5UJD-niyJNIb",
        "outputId": "664b124a-2c3b-4f77-f56d-31de49c7c868",
        "colab": {
          "base_uri": "https://localhost:8080/",
          "height": 163
        }
      },
      "source": [
        "# \n",
        "res=majority_vote([part,part2,part3],x_test_svm,y_test_svm)\n",
        "print(\"---------accuracy of mixed classifiers ensemble before FGSM attack-----: \",res)\n",
        "res=majority_vote([part,part2,part3],attack,y_test_svm)\n",
        "print(\"---accuracy of mixed classifiers ensemble under FGSM attack----: \",res)"
      ],
      "execution_count": null,
      "outputs": [
        {
          "output_type": "stream",
          "text": [
            "neural network accuracy:  0.9734\n",
            "SGD accuracy:  0.9154\n",
            "RandForest accuracy:  0.9704\n",
            "---------accuracy of mixed classifiers ensemble before FGSM attack-----:  0.9666\n",
            "neural network accuracy:  0.41\n",
            "SGD accuracy:  0.7947\n",
            "RandForest accuracy:  0.5345\n",
            "---accuracy of mixed classifiers ensemble under FGSM attack----:  0.6208\n"
          ],
          "name": "stdout"
        }
      ]
    },
    {
      "cell_type": "code",
      "metadata": {
        "id": "yh2taKI0HJlo"
      },
      "source": [
        "from sklearn.linear_model import SGDClassifier\n",
        "from sklearn.ensemble import RandomForestClassifier\n",
        "\n",
        "def ensemble_mixed_classifier():\n",
        "  (x_train_svm, y_train_svm), (x_test_svm, y_test_svm) = mnist.load_data()\n",
        "  train_length = len(x_train_svm)\n",
        "  test_length = len(x_test_svm)\n",
        "\n",
        "  part=train_component_neural(x_train_svm,y_train_svm)\n",
        "  pred=predict_evaulate_component_neural(part,x_test_svm,y_test_svm)\n",
        "\n",
        "  attack=create_adverserial(part,x_test_svm,y_test_svm)\n",
        "\n",
        "  hit=0\n",
        "  miss=0\n",
        "  sgd_clf = SGDClassifier()\n",
        "  sgd_clf.fit(train_data,y_train_svm)\n",
        "  pred1=sgd_clf.predict(test_data)\n",
        "\n",
        "  forest_clf = RandomForestClassifier(random_state=42)\n",
        "  forest_clf.fit(train_data,y_train_svm)\n",
        "  pred2=forest_clf.predict(test_data)\n",
        "\n",
        "  model1 = create_model()\n",
        "  model1.fit(x_train1,y_train1,\n",
        "            batch_size=32,\n",
        "            epochs=10)\n",
        "  yhats=model.predict(x_test1)\n",
        "  pred3 = [item.argmax() for item in yhats]\n",
        "\n",
        "  for i in range(len(y_test1)):\n",
        "    cnt=0\n",
        "    if(pred1[i]==y_test_svm[i]):\n",
        "      cnt+=1\n",
        "    if(pred2[i]==y_test_svm[i]):\n",
        "      cnt+=1\n",
        "    if(pred3[i]==y_test_svm[i]):\n",
        "      cnt+=1\n",
        "    if(cnt>=2):\n",
        "      hit+=1\n",
        "    else:\n",
        "      miss+=1\n",
        "  return hit*1.0/(hit+miss)\n",
        "#accuracy=ensemble_mixed_classifier()\n",
        "#print(\"accuracy:\",accuracy)"
      ],
      "execution_count": null,
      "outputs": []
    },
    {
      "cell_type": "code",
      "metadata": {
        "id": "C_7oG0x8q1Bm"
      },
      "source": [
        "# evaluate average weight ensemble model \n",
        "def evaluate(members,x_test,y_test):\n",
        "  hit=0\n",
        "  miss=0\n",
        "  res=[]\n",
        "  yhats = [model.predict(x_test) for model in members]\n",
        "  for i in range(len(yhats)):\n",
        "    res.append([])\n",
        "    for item in yhats[i]:\n",
        "      res[-1].append(item.argmax())\n",
        "  threshold = len(members)//2\n",
        "  for i,ls in enumerate(y_test):\n",
        "    label=ls.argmax()\n",
        "    row_hit=0\n",
        "    for j in range(len(res)):\n",
        "      if(res[j][i]==label):\n",
        "        row_hit+=1\n",
        "    if(row_hit>threshold):\n",
        "      hit+=1\n",
        "    else:\n",
        "      miss+=1\n",
        "  return hit*1.0/(hit+miss)\n",
        "\n"
      ],
      "execution_count": null,
      "outputs": []
    },
    {
      "cell_type": "code",
      "metadata": {
        "id": "wL7izPW7s-Ki"
      },
      "source": [
        "#from sklearn.svm import SVC\n",
        "#from sklearn import datasets, svm, metrics\n",
        "#svm_clf = SVC(gamma=0.001)\n",
        "# It's slow let's train 1000 instance first\n",
        "#svm_clf.fit(X_train[:1000], y_train[:1000]) # y_train"
      ],
      "execution_count": null,
      "outputs": []
    },
    {
      "cell_type": "code",
      "metadata": {
        "id": "e_FNddCDtX1t"
      },
      "source": [
        "from sklearn.svm import SVC\n",
        "def train_component_SVM(trainx,trainy):\n",
        "  train_length = len(trainx)\n",
        "  train_data = trainx.reshape((train_length, -1))\n",
        "  svm_clf = SVC(gamma=0.001)\n",
        "  # It's slow let's train 1000 instance first\n",
        "  svm_clf.fit(train_data,trainy) # y_train\n",
        "  return svm_clf\n",
        "\n",
        "def predict_evaulate_component_SVM(model,x_test,y_test):\n",
        "  test_length = len(x_test)\n",
        "  x_test = x_test.reshape((test_length, -1))\n",
        "  res= model.predict(x_test)\n",
        "  print(\"SVM accuracy: \",accuracy_score(res, y_test))\n",
        "  return res\n"
      ],
      "execution_count": null,
      "outputs": []
    },
    {
      "cell_type": "code",
      "metadata": {
        "id": "-r-e5-aCt2_5"
      },
      "source": [
        "#(x_train_svm, y_train_svm), (x_test_svm, y_test_svm) = mnist.load_data()\n",
        "#x_train_svm = x_train_svm / 255\n",
        "#x_test_svm = x_test_svm / 255\n",
        "#part=train_component_SVM(x_train_svm,y_train_svm)\n",
        "#pred=train_component_SVM(part,x_test_svm,y_test_svm)"
      ],
      "execution_count": null,
      "outputs": []
    },
    {
      "cell_type": "code",
      "metadata": {
        "id": "6-e1hCcng11d",
        "outputId": "6bba2b0e-cd50-4f97-dfe0-47837d40211b",
        "colab": {
          "base_uri": "https://localhost:8080/",
          "height": 299
        }
      },
      "source": [
        "import numpy as np\n",
        "import matplotlib.pyplot as plt\n",
        " \n",
        "# width of the bars\n",
        "barWidth = 0.3\n",
        " \n",
        "# Choose the height of the blue bars\n",
        "bars1 = [np.mean(s1), np.mean(s2) , np.mean(s3)]\n",
        " \n",
        "# Choose the height of the cyan bars\n",
        "bars2 = [np.mean(s1_a), np.mean(s2_a) , np.mean(s3_a)]\n",
        " \n",
        "# Choose the height of the error bars (bars1)\n",
        "yer1 = [np.var(s1), np.var(s2), np.var(s3)]\n",
        " \n",
        "# Choose the height of the error bars (bars2)\n",
        "yer2 = [np.var(s1_a), np.var(s2_a), np.var(s3_a)]\n",
        " \n",
        "# The x position of bars\n",
        "r1 = np.arange(len(bars1))\n",
        "r2 = [x + barWidth for x in r1]\n",
        " \n",
        "# Create blue bars\n",
        "plt.bar(r1, bars1, width = barWidth, color = 'blue', edgecolor = 'black', yerr=yer1 ,capsize=7, label='base precision')\n",
        " \n",
        "# Create cyan bars\n",
        "plt.bar(r2, bars2, width = barWidth, color = 'cyan', edgecolor = 'black', yerr=yer2 ,capsize=7, label='precision under attack')\n",
        " \n",
        "# general layout\n",
        "plt.title('FGSM attack on different structure neural network')\n",
        "plt.xticks([r + barWidth for r in range(len(bars1))], ['s1', 's2', 's3'])\n",
        "plt.ylabel('precision')\n",
        "plt.legend()\n"
      ],
      "execution_count": null,
      "outputs": [
        {
          "output_type": "execute_result",
          "data": {
            "text/plain": [
              "<matplotlib.legend.Legend at 0x7faa759ee940>"
            ]
          },
          "metadata": {
            "tags": []
          },
          "execution_count": 75
        },
        {
          "output_type": "display_data",
          "data": {
            "image/png": "[encoded data removed]",
            "text/plain": [
              "<Figure size 432x288 with 1 Axes>"
            ]
          },
          "metadata": {
            "tags": [],
            "needs_background": "light"
          }
        }
      ]
    },
    {
      "cell_type": "code",
      "metadata": {
        "id": "Uie_aFD5yypm",
        "outputId": "8e442d91-b73d-40eb-e52e-3e68a51866cb",
        "colab": {
          "base_uri": "https://localhost:8080/",
          "height": 299
        }
      },
      "source": [
        "import numpy as np\n",
        "import matplotlib.pyplot as plt\n",
        " \n",
        "# width of the bars\n",
        "barWidth = 0.3\n",
        " \n",
        "# Choose the height of the blue bars\n",
        "bars1 = [np.mean(m1_base), np.mean(m2_base) , np.mean(m3_base), np.mean(m4_base), np.mean(m5_base), np.mean(m7_base)]\n",
        " \n",
        "# Choose the height of the cyan bars\n",
        "bars2 = [np.mean(m1_attack1), np.mean(m2_attack1) , np.mean(m3_attack1), np.mean(m4_attack1), np.mean(m5_attack1), np.mean(m7_attack1)]\n",
        "\n",
        "bars3 = [np.mean(m1_attack_all), np.mean(m2_attack_all) , np.mean(m3_attack_all), np.mean(m4_attack_all), np.mean(m5_attack_all), np.mean(m7_attack_all)]\n",
        "\n",
        " \n",
        "# Choose the height of the error bars (bars1)\n",
        "yer1 = [np.var(s1), np.var(s2), np.var(s3)]\n",
        " \n",
        "# Choose the height of the error bars (bars2)\n",
        "yer2 = [np.var(s1_a), np.var(s2_a), np.var(s3_a)]\n",
        " \n",
        "# The x position of bars\n",
        "r1 = np.arange(len(bars1))\n",
        "r2 = [x + barWidth for x in r1]\n",
        "r3 =  [x + barWidth for x in r2]\n",
        "# Create blue bars\n",
        "plt.bar(r1, bars1, width = barWidth, color = 'blue', edgecolor = 'black' ,capsize=7, label='base precision')\n",
        " \n",
        "# Create cyan bars\n",
        "plt.bar(r2, bars2, width = barWidth, color = 'cyan', edgecolor = 'black' ,capsize=7, label='precision under FGSM attack')\n",
        " \n",
        "plt.bar(r3, bars3, width = barWidth, color = 'green', edgecolor = 'black' ,capsize=7, label='precision under the average of FGSM attack')\n",
        "# general layout\n",
        "plt.title('FGSM attack on different method')\n",
        "plt.xticks([r + 2*barWidth for r in range(len(bars1))], ['m1', 'm2', 'm3','m4','m5','m7'])\n",
        "plt.ylabel('precision')\n",
        "plt.legend()"
      ],
      "execution_count": null,
      "outputs": [
        {
          "output_type": "execute_result",
          "data": {
            "text/plain": [
              "<matplotlib.legend.Legend at 0x7faa759c9390>"
            ]
          },
          "metadata": {
            "tags": []
          },
          "execution_count": 76
        },
        {
          "output_type": "display_data",
          "data": {
            "image/png": "[encoded data removed]",
            "text/plain": [
              "<Figure size 432x288 with 1 Axes>"
            ]
          },
          "metadata": {
            "tags": [],
            "needs_background": "light"
          }
        }
      ]
    },
    {
      "cell_type": "markdown",
      "metadata": {
        "id": "r7D7rmHeSvnp"
      },
      "source": [
        "##Adv-GAN"
      ]
    },
    {
      "cell_type": "code",
      "metadata": {
        "id": "EgYaCwgdEEUt",
        "outputId": "87896790-963c-4192-8a93-cbb32b5e24c8",
        "colab": {
          "base_uri": "https://localhost:8080/",
          "height": 328
        }
      },
      "source": [
        "pip install git+https://www.github.com/keras-team/keras-contrib.git"
      ],
      "execution_count": null,
      "outputs": [
        {
          "output_type": "stream",
          "text": [
            "Collecting git+https://www.github.com/keras-team/keras-contrib.git\n",
            "  Cloning https://www.github.com/keras-team/keras-contrib.git to /tmp/pip-req-build-tylaiidd\n",
            "  Running command git clone -q https://www.github.com/keras-team/keras-contrib.git /tmp/pip-req-build-tylaiidd\n",
            "Requirement already satisfied: keras in /usr/local/lib/python3.6/dist-packages (from keras-contrib==2.0.8) (2.4.3)\n",
            "Requirement already satisfied: pyyaml in /usr/local/lib/python3.6/dist-packages (from keras->keras-contrib==2.0.8) (3.13)\n",
            "Requirement already satisfied: numpy>=1.9.1 in /usr/local/lib/python3.6/dist-packages (from keras->keras-contrib==2.0.8) (1.18.5)\n",
            "Requirement already satisfied: scipy>=0.14 in /usr/local/lib/python3.6/dist-packages (from keras->keras-contrib==2.0.8) (1.4.1)\n",
            "Requirement already satisfied: h5py in /usr/local/lib/python3.6/dist-packages (from keras->keras-contrib==2.0.8) (2.10.0)\n",
            "Requirement already satisfied: six in /usr/local/lib/python3.6/dist-packages (from h5py->keras->keras-contrib==2.0.8) (1.15.0)\n",
            "Building wheels for collected packages: keras-contrib\n",
            "  Building wheel for keras-contrib (setup.py) ... \u001b[?25l\u001b[?25hdone\n",
            "  Created wheel for keras-contrib: filename=keras_contrib-2.0.8-cp36-none-any.whl size=101064 sha256=c188d0efac9cb270ea3f3cb355d3faeedca80609757305e50f0c6fc5b3ece731\n",
            "  Stored in directory: /tmp/pip-ephem-wheel-cache-bi1h9f31/wheels/11/27/c8/4ed56de7b55f4f61244e2dc6ef3cdbaff2692527a2ce6502ba\n",
            "Successfully built keras-contrib\n",
            "Installing collected packages: keras-contrib\n",
            "Successfully installed keras-contrib-2.0.8\n"
          ],
          "name": "stdout"
        }
      ]
    },
    {
      "cell_type": "code",
      "metadata": {
        "id": "ISJk87HmCx3e",
        "outputId": "c1c2f1f9-45fb-4e23-8d36-700396a675b4",
        "colab": {
          "base_uri": "https://localhost:8080/",
          "height": 1000
        }
      },
      "source": [
        "from __future__ import print_function\n",
        "import keras\n",
        "from keras.datasets import mnist\n",
        "from keras.models import Sequential\n",
        "from keras.utils import to_categorical\n",
        "from keras import layers, Model\n",
        "from keras.layers import Input, Dense, Dropout, Flatten, Reshape, Activation, Lambda, LeakyReLU\n",
        "from keras.layers import Conv2D, AveragePooling2D, Conv2DTranspose, BatchNormalization,MaxPooling2D\n",
        "from keras_contrib.layers.normalization.instancenormalization import InstanceNormalization\n",
        "from keras.optimizers import Adam, SGD\n",
        "from keras.metrics import binary_accuracy\n",
        "from keras import backend as K\n",
        "import os, cv2, re, random\n",
        "import numpy as np\n",
        "import matplotlib.pyplot as plt\n",
        "from numpy.random import seed\n",
        "import tensorflow\n",
        "#from tensorflow import set_random_seed\n",
        "\n",
        "class DCGAN():\n",
        "\n",
        "    def __init__(self):\n",
        "        #input image dimensions\n",
        "        self.img_width = 28\n",
        "        self.img_height = 28\n",
        "        self.input_shape = (self.img_width, self.img_height, 1) #1 channel for grayscale\n",
        "\n",
        "        optimizer_g = Adam(0.0002)\n",
        "        optimizer_d = SGD(0.01)\n",
        "\n",
        "        inputs = Input(shape=self.input_shape)\n",
        "        outputs = self.build_generator(inputs)\n",
        "        self.G = Model(inputs, outputs)\n",
        "        self.G.summary()\n",
        "\n",
        "        outputs = self.build_discriminator(self.G(inputs))\n",
        "        self.D = Model(inputs, outputs)\n",
        "        self.D.compile(loss=keras.losses.binary_crossentropy, optimizer = optimizer_d, metrics=[self.custom_acc])\n",
        "        self.D.summary()\n",
        "\n",
        "        outputs = self.build_target(self.G(inputs))\n",
        "        self.target = Model(inputs, outputs)\n",
        "        self.target.compile(loss=keras.losses.categorical_crossentropy, optimizer=keras.optimizers.Adam(), metrics=['accuracy'])\n",
        "        self.target.summary()\n",
        "\n",
        "        self.stacked = Model(inputs=inputs, outputs=[self.G(inputs), self.D(self.G(inputs)), self.target(self.G(inputs))])\n",
        "        self.stacked.compile(loss=[self.generator_loss, keras.losses.binary_crossentropy, keras.losses.binary_crossentropy], optimizer = optimizer_g)\n",
        "        self.stacked.summary()\n",
        "\n",
        "    def generator_loss(self, y_true, y_pred):\n",
        "        return K.mean(K.maximum(K.sqrt(K.sum(K.square(y_pred - y_true), axis=-1)) - 0.3, 0), axis=-1)\n",
        "        #||G(x) - x||_2 - c, where c is user-defined. Here it is set to 0.3\n",
        "\n",
        "    def custom_acc(self, y_true, y_pred):\n",
        "        return binary_accuracy(K.round(y_true), K.round(y_pred))\n",
        "\n",
        "    #build the cnn\n",
        "    def build_discriminator(self, inputs):\n",
        "\n",
        "        D = Conv2D(32, 4, strides=(2,2))(inputs)\n",
        "        D = LeakyReLU()(D)\n",
        "        D = Dropout(0.4)(D)\n",
        "        D = Conv2D(64, 4, strides=(2,2))(D)\n",
        "        D = BatchNormalization()(D)\n",
        "        D = LeakyReLU()(D)\n",
        "        D = Dropout(0.4)(D)\n",
        "        D = Flatten()(D)\n",
        "        D = Dense(64)(D)\n",
        "        D = BatchNormalization()(D)\n",
        "        D = LeakyReLU()(D)\n",
        "        D = Dense(1, activation='sigmoid')(D)\n",
        "        return D\n",
        "\n",
        "\n",
        "    def build_generator(self, inputs):\n",
        "        #c3s1-8\n",
        "        G = Conv2D(8, 3, padding='same')(inputs)\n",
        "        G = InstanceNormalization()(G)\n",
        "        G = Activation('relu')(G)\n",
        "\n",
        "        #d16\n",
        "        G = Conv2D(16, 3, strides=(2,2), padding='same')(G)\n",
        "        G = InstanceNormalization()(G)\n",
        "        G = Activation('relu')(G)\n",
        "\n",
        "        #d32\n",
        "        G = Conv2D(32, 3, strides=(2,2), padding='same')(G)\n",
        "        G = InstanceNormalization()(G)\n",
        "        G = Activation('relu')(G)\n",
        "\n",
        "        residual = G\n",
        "        #four r32 blocks\n",
        "        for _ in range(4):\n",
        "            G = Conv2D(32, 3, padding='same')(G)\n",
        "            G = BatchNormalization()(G)\n",
        "            G = Activation('relu')(G)\n",
        "            G = Conv2D(32, 3, padding='same')(G)\n",
        "            G = BatchNormalization()(G)\n",
        "            G = layers.add([G, residual])\n",
        "            residual = G\n",
        "\n",
        "        #u16\n",
        "        G = Conv2DTranspose(16, 3, strides=(2,2), padding='same')(G)\n",
        "        G = InstanceNormalization()(G)\n",
        "        G = Activation('relu')(G)\n",
        "\n",
        "        #u8\n",
        "        G = Conv2DTranspose(8, 3, strides=(2,2), padding='same')(G)\n",
        "        G = InstanceNormalization()(G)\n",
        "        G = Activation('relu')(G)\n",
        "\n",
        "        #c3s1-3\n",
        "        G = Conv2D(1, 3, padding='same')(G)\n",
        "        G = InstanceNormalization()(G)\n",
        "        G = Activation('relu')(G)\n",
        "        G = layers.add([G, inputs])\n",
        "\n",
        "        return G\n",
        "\n",
        "    def build_target(self, inputs):\n",
        "        f = Conv2D(32, kernel_size=(3, 3), strides=(3, 3), padding='same', activation='relu')(inputs)\n",
        "        f = Conv2D(64, kernel_size=(3, 3), strides=(3, 3), padding='same', activation='relu')(f)\n",
        "        f = Conv2D(64, kernel_size=(3, 3), strides=(3, 3), padding='same', activation='relu')(f)\n",
        "        f = MaxPooling2D(pool_size=(2, 2))(f)\n",
        "        f = Dropout(0.2)(f)\n",
        "        f = Flatten()(f)\n",
        "        f = Dense(32)(f)\n",
        "        f = Dropout(0.2)(f)\n",
        "        f = Dense(32)(f)\n",
        "        f = Dropout(0.2)(f)\n",
        "        f = Dense(2, activation='softmax')(f)\n",
        "        return f\n",
        "\n",
        "\n",
        "\n",
        "    def get_batches(self, start, end, x_train, y_train):\n",
        "        x_batch = x_train[start:end]\n",
        "        Gx_batch = self.G.predict_on_batch(x_batch)\n",
        "        y_batch = y_train[start:end]\n",
        "        return x_batch, Gx_batch, y_batch\n",
        "\n",
        "\n",
        "    def train_D_on_batch(self, batches):\n",
        "        x_batch, Gx_batch, _ = batches\n",
        "\n",
        "        #for each batch:\n",
        "            #predict noise on generator: G(z) = batch of fake images\n",
        "            #train fake images on discriminator: D(G(z)) = update D params per D's classification for fake images\n",
        "            #train real images on disciminator: D(x) = update D params per classification for real images\n",
        "\n",
        "        #Update D params\n",
        "        self.D.trainable = True\n",
        "        d_loss_real = self.D.train_on_batch(x_batch, np.random.uniform(0.9, 1.0, size=(len(x_batch), 1)) ) #real=1, positive label smoothing\n",
        "        d_loss_fake = self.D.train_on_batch(Gx_batch, np.zeros((len(Gx_batch), 1)) ) #fake=0\n",
        "        d_loss = 0.5*np.add(d_loss_real, d_loss_fake)\n",
        "\n",
        "        return d_loss #(loss, accuracy) tuple\n",
        "\n",
        "\n",
        "    def train_stacked_on_batch(self, batches):\n",
        "        x_batch, _, y_batch = batches\n",
        "        flipped_y_batch = 1.-y_batch\n",
        "\n",
        "        #for each batch:\n",
        "            #train fake images on discriminator: D(G(z)) = update G params per D's classification for fake images\n",
        "\n",
        "        #Update only G params\n",
        "        self.D.trainable = False\n",
        "        self.target.trainable = False\n",
        "        stacked_loss = self.stacked.train_on_batch(x_batch, [x_batch, np.ones((len(x_batch), 1)), to_categorical(flipped_y_batch)] )\n",
        "        #stacked_loss = self.stacked.train_on_batch(x_batch, [x_batch, np.ones((len(x_batch), 1)), to_categorical(y_batch)] )\n",
        "        #input to full GAN is original image\n",
        "        #output 1 label for generated image is original image\n",
        "        #output 2 label for discriminator classification is real/fake; G wants D to mark these as real=1\n",
        "        #output 3 label for target classification is 1/3; g wants to flip these so 1=1 and 3=0\n",
        "        return stacked_loss #(total loss, hinge loss, gan loss, adv loss) tuple\n",
        "\n",
        "\n",
        "    def train_GAN(self):\n",
        "        (x_train, y_train), (x_test, y_test) = mnist.load_data()\n",
        "        x_train = (x_train *2./255 - 1).reshape((len(x_train), 28, 28, 1)) #pixel values in range [-1., 1.] for D\n",
        "        binary_indices = np.where(y_train == 1)\n",
        "        x_ones = x_train[binary_indices][:6000]\n",
        "        y_ones = np.zeros((6000, 1))\n",
        "        binary_indices = np.where(y_train == 3)\n",
        "        x_threes = x_train[binary_indices][:6000]\n",
        "        y_threes = np.ones((6000, 1))\n",
        "        x_train = np.concatenate((x_ones, x_threes)) #(12000, 28, 28, 1)\n",
        "        y_train = np.concatenate((y_ones, y_threes)) #1=0, 3=1\n",
        "        zipped = list(zip(x_train,y_train))\n",
        "        np.random.shuffle(zipped)\n",
        "        x_train, y_train = zip(*zipped)\n",
        "        x_train = np.array(x_train)\n",
        "        y_train = np.array(y_train)\n",
        "\n",
        "        self.target.fit(x_train, to_categorical(y_train), epochs=5) #pretrain target\n",
        "\n",
        "        epochs = 5\n",
        "        batch_size = 128\n",
        "        num_batches = len(x_train)//batch_size\n",
        "        if len(x_train) % batch_size != 0:\n",
        "            num_batches += 1\n",
        "\n",
        "        for epoch in range(epochs)[::-1]:\n",
        "            print(\"Epoch \" + str(epoch))\n",
        "            batch_index = 0\n",
        "\n",
        "            for batch in range(num_batches - 1):\n",
        "                start = batch_size*batch_index\n",
        "                end = batch_size*(batch_index+1)\n",
        "                batches = self.get_batches(start, end, x_train, y_train)\n",
        "                self.train_D_on_batch(batches)\n",
        "                self.train_stacked_on_batch(batches)\n",
        "                batch_index += 1\n",
        "\n",
        "\n",
        "            start = batch_size*batch_index\n",
        "            end = len(x_train)\n",
        "            x_batch, Gx_batch, y_batch = self.get_batches(start, end, x_train, y_train)\n",
        "\n",
        "            (d_loss, d_acc) = self.train_D_on_batch((x_batch, Gx_batch, y_batch))\n",
        "            (g_loss, hinge_loss, gan_loss, adv_loss) = self.train_stacked_on_batch((x_batch, Gx_batch, y_batch))\n",
        "\n",
        "            target_acc = self.target.test_on_batch(Gx_batch, to_categorical(y_batch))[1]\n",
        "            target_predictions = self.target.predict_on_batch(Gx_batch) #(96,2)\n",
        "\n",
        "            misclassified = np.where(y_batch.reshape((len(x_train) % batch_size, )) != np.argmax(target_predictions, axis=1))[0]\n",
        "            print(np.array(misclassified).shape)\n",
        "            print(misclassified)\n",
        "\n",
        "            print(\"Discriminator -- Loss:%f\\tAccuracy:%.2f%%\\nGenerator -- Loss:%f\\nHinge Loss: %f\\nTarget Loss: %f\\tAccuracy:%.2f%%\" %(d_loss, d_acc*100., gan_loss, hinge_loss, adv_loss, target_acc*100.))\n",
        "\n",
        "            if epoch == 0:\n",
        "                self.res=(Gx_batch, y_batch)\n",
        "                #self.save_generated_images(\"orig\", Gx_batch, 'images')\n",
        "            #if epoch % 5 == 0:\n",
        "            #    self.save_generated_images(str(epoch), Gx_batch, 'images')\n",
        "            #    self.save_generated_images(str(epoch), Gx_batch[misclassified], 'misclass')\n",
        "\n",
        "\n",
        "    def save_generated_images(self, filename, batch, dir):\n",
        "        batch = batch.reshape(batch.shape[0], self.img_width, self.img_height)\n",
        "        rows, columns = 5, 5\n",
        "        #self.res = batch\n",
        "        fig, axs = plt.subplots(rows, columns)\n",
        "        cnt = 0\n",
        "        for i in range(rows):\n",
        "            for j in range(columns):\n",
        "                axs[i,j].imshow((batch[cnt] + 1)/2., interpolation='nearest', cmap='gray')\n",
        "                axs[i,j].axis('off')\n",
        "                cnt += 1\n",
        "        #fig.savefig(\"%s/%s.png\" % (dir, filename))\n",
        "        plt.show()\n",
        "        plt.close()\n",
        "\n",
        "\n",
        "\n",
        "temp = None\n",
        "if __name__ == '__main__':\n",
        "    seed(5)\n",
        "    tensorflow.random.set_seed(1)\n",
        "    dcgan = DCGAN()\n",
        "    dcgan.train_GAN()\n",
        "    temp = dcgan.res"
      ],
      "execution_count": null,
      "outputs": [
        {
          "output_type": "stream",
          "text": [
            "Model: \"functional_1\"\n",
            "__________________________________________________________________________________________________\n",
            "Layer (type)                    Output Shape         Param #     Connected to                     \n",
            "==================================================================================================\n",
            "input_1 (InputLayer)            [(None, 28, 28, 1)]  0                                            \n",
            "__________________________________________________________________________________________________\n",
            "conv2d_62 (Conv2D)              (None, 28, 28, 8)    80          input_1[0][0]                    \n",
            "__________________________________________________________________________________________________\n",
            "instance_normalization (Instanc (None, 28, 28, 8)    2           conv2d_62[0][0]                  \n",
            "__________________________________________________________________________________________________\n",
            "activation (Activation)         (None, 28, 28, 8)    0           instance_normalization[0][0]     \n",
            "__________________________________________________________________________________________________\n",
            "conv2d_63 (Conv2D)              (None, 14, 14, 16)   1168        activation[0][0]                 \n",
            "__________________________________________________________________________________________________\n",
            "instance_normalization_1 (Insta (None, 14, 14, 16)   2           conv2d_63[0][0]                  \n",
            "__________________________________________________________________________________________________\n",
            "activation_1 (Activation)       (None, 14, 14, 16)   0           instance_normalization_1[0][0]   \n",
            "__________________________________________________________________________________________________\n",
            "conv2d_64 (Conv2D)              (None, 7, 7, 32)     4640        activation_1[0][0]               \n",
            "__________________________________________________________________________________________________\n",
            "instance_normalization_2 (Insta (None, 7, 7, 32)     2           conv2d_64[0][0]                  \n",
            "__________________________________________________________________________________________________\n",
            "activation_2 (Activation)       (None, 7, 7, 32)     0           instance_normalization_2[0][0]   \n",
            "__________________________________________________________________________________________________\n",
            "conv2d_65 (Conv2D)              (None, 7, 7, 32)     9248        activation_2[0][0]               \n",
            "__________________________________________________________________________________________________\n",
            "batch_normalization (BatchNorma (None, 7, 7, 32)     128         conv2d_65[0][0]                  \n",
            "__________________________________________________________________________________________________\n",
            "activation_3 (Activation)       (None, 7, 7, 32)     0           batch_normalization[0][0]        \n",
            "__________________________________________________________________________________________________\n",
            "conv2d_66 (Conv2D)              (None, 7, 7, 32)     9248        activation_3[0][0]               \n",
            "__________________________________________________________________________________________________\n",
            "batch_normalization_1 (BatchNor (None, 7, 7, 32)     128         conv2d_66[0][0]                  \n",
            "__________________________________________________________________________________________________\n",
            "add (Add)                       (None, 7, 7, 32)     0           batch_normalization_1[0][0]      \n",
            "                                                                 activation_2[0][0]               \n",
            "__________________________________________________________________________________________________\n",
            "conv2d_67 (Conv2D)              (None, 7, 7, 32)     9248        add[0][0]                        \n",
            "__________________________________________________________________________________________________\n",
            "batch_normalization_2 (BatchNor (None, 7, 7, 32)     128         conv2d_67[0][0]                  \n",
            "__________________________________________________________________________________________________\n",
            "activation_4 (Activation)       (None, 7, 7, 32)     0           batch_normalization_2[0][0]      \n",
            "__________________________________________________________________________________________________\n",
            "conv2d_68 (Conv2D)              (None, 7, 7, 32)     9248        activation_4[0][0]               \n",
            "__________________________________________________________________________________________________\n",
            "batch_normalization_3 (BatchNor (None, 7, 7, 32)     128         conv2d_68[0][0]                  \n",
            "__________________________________________________________________________________________________\n",
            "add_1 (Add)                     (None, 7, 7, 32)     0           batch_normalization_3[0][0]      \n",
            "                                                                 add[0][0]                        \n",
            "__________________________________________________________________________________________________\n",
            "conv2d_69 (Conv2D)              (None, 7, 7, 32)     9248        add_1[0][0]                      \n",
            "__________________________________________________________________________________________________\n",
            "batch_normalization_4 (BatchNor (None, 7, 7, 32)     128         conv2d_69[0][0]                  \n",
            "__________________________________________________________________________________________________\n",
            "activation_5 (Activation)       (None, 7, 7, 32)     0           batch_normalization_4[0][0]      \n",
            "__________________________________________________________________________________________________\n",
            "conv2d_70 (Conv2D)              (None, 7, 7, 32)     9248        activation_5[0][0]               \n",
            "__________________________________________________________________________________________________\n",
            "batch_normalization_5 (BatchNor (None, 7, 7, 32)     128         conv2d_70[0][0]                  \n",
            "__________________________________________________________________________________________________\n",
            "add_2 (Add)                     (None, 7, 7, 32)     0           batch_normalization_5[0][0]      \n",
            "                                                                 add_1[0][0]                      \n",
            "__________________________________________________________________________________________________\n",
            "conv2d_71 (Conv2D)              (None, 7, 7, 32)     9248        add_2[0][0]                      \n",
            "__________________________________________________________________________________________________\n",
            "batch_normalization_6 (BatchNor (None, 7, 7, 32)     128         conv2d_71[0][0]                  \n",
            "__________________________________________________________________________________________________\n",
            "activation_6 (Activation)       (None, 7, 7, 32)     0           batch_normalization_6[0][0]      \n",
            "__________________________________________________________________________________________________\n",
            "conv2d_72 (Conv2D)              (None, 7, 7, 32)     9248        activation_6[0][0]               \n",
            "__________________________________________________________________________________________________\n",
            "batch_normalization_7 (BatchNor (None, 7, 7, 32)     128         conv2d_72[0][0]                  \n",
            "__________________________________________________________________________________________________\n",
            "add_3 (Add)                     (None, 7, 7, 32)     0           batch_normalization_7[0][0]      \n",
            "                                                                 add_2[0][0]                      \n",
            "__________________________________________________________________________________________________\n",
            "conv2d_transpose (Conv2DTranspo (None, 14, 14, 16)   4624        add_3[0][0]                      \n",
            "__________________________________________________________________________________________________\n",
            "instance_normalization_3 (Insta (None, 14, 14, 16)   2           conv2d_transpose[0][0]           \n",
            "__________________________________________________________________________________________________\n",
            "activation_7 (Activation)       (None, 14, 14, 16)   0           instance_normalization_3[0][0]   \n",
            "__________________________________________________________________________________________________\n",
            "conv2d_transpose_1 (Conv2DTrans (None, 28, 28, 8)    1160        activation_7[0][0]               \n",
            "__________________________________________________________________________________________________\n",
            "instance_normalization_4 (Insta (None, 28, 28, 8)    2           conv2d_transpose_1[0][0]         \n",
            "__________________________________________________________________________________________________\n",
            "activation_8 (Activation)       (None, 28, 28, 8)    0           instance_normalization_4[0][0]   \n",
            "__________________________________________________________________________________________________\n",
            "conv2d_73 (Conv2D)              (None, 28, 28, 1)    73          activation_8[0][0]               \n",
            "__________________________________________________________________________________________________\n",
            "instance_normalization_5 (Insta (None, 28, 28, 1)    2           conv2d_73[0][0]                  \n",
            "__________________________________________________________________________________________________\n",
            "activation_9 (Activation)       (None, 28, 28, 1)    0           instance_normalization_5[0][0]   \n",
            "__________________________________________________________________________________________________\n",
            "add_4 (Add)                     (None, 28, 28, 1)    0           activation_9[0][0]               \n",
            "                                                                 input_1[0][0]                    \n",
            "==================================================================================================\n",
            "Total params: 86,765\n",
            "Trainable params: 86,253\n",
            "Non-trainable params: 512\n",
            "__________________________________________________________________________________________________\n",
            "Model: \"functional_3\"\n",
            "_________________________________________________________________\n",
            "Layer (type)                 Output Shape              Param #   \n",
            "=================================================================\n",
            "input_1 (InputLayer)         [(None, 28, 28, 1)]       0         \n",
            "_________________________________________________________________\n",
            "functional_1 (Functional)    (None, 28, 28, 1)         86765     \n",
            "_________________________________________________________________\n",
            "conv2d_74 (Conv2D)           (None, 13, 13, 32)        544       \n",
            "_________________________________________________________________\n",
            "leaky_re_lu (LeakyReLU)      (None, 13, 13, 32)        0         \n",
            "_________________________________________________________________\n",
            "dropout_60 (Dropout)         (None, 13, 13, 32)        0         \n",
            "_________________________________________________________________\n",
            "conv2d_75 (Conv2D)           (None, 5, 5, 64)          32832     \n",
            "_________________________________________________________________\n",
            "batch_normalization_8 (Batch (None, 5, 5, 64)          256       \n",
            "_________________________________________________________________\n",
            "leaky_re_lu_1 (LeakyReLU)    (None, 5, 5, 64)          0         \n",
            "_________________________________________________________________\n",
            "dropout_61 (Dropout)         (None, 5, 5, 64)          0         \n",
            "_________________________________________________________________\n",
            "flatten_24 (Flatten)         (None, 1600)              0         \n",
            "_________________________________________________________________\n",
            "dense_68 (Dense)             (None, 64)                102464    \n",
            "_________________________________________________________________\n",
            "batch_normalization_9 (Batch (None, 64)                256       \n",
            "_________________________________________________________________\n",
            "leaky_re_lu_2 (LeakyReLU)    (None, 64)                0         \n",
            "_________________________________________________________________\n",
            "dense_69 (Dense)             (None, 1)                 65        \n",
            "=================================================================\n",
            "Total params: 223,182\n",
            "Trainable params: 222,414\n",
            "Non-trainable params: 768\n",
            "_________________________________________________________________\n",
            "Model: \"functional_5\"\n",
            "_________________________________________________________________\n",
            "Layer (type)                 Output Shape              Param #   \n",
            "=================================================================\n",
            "input_1 (InputLayer)         [(None, 28, 28, 1)]       0         \n",
            "_________________________________________________________________\n",
            "functional_1 (Functional)    (None, 28, 28, 1)         86765     \n",
            "_________________________________________________________________\n",
            "conv2d_76 (Conv2D)           (None, 10, 10, 32)        320       \n",
            "_________________________________________________________________\n",
            "conv2d_77 (Conv2D)           (None, 4, 4, 64)          18496     \n",
            "_________________________________________________________________\n",
            "conv2d_78 (Conv2D)           (None, 2, 2, 64)          36928     \n",
            "_________________________________________________________________\n",
            "max_pooling2d_22 (MaxPooling (None, 1, 1, 64)          0         \n",
            "_________________________________________________________________\n",
            "dropout_62 (Dropout)         (None, 1, 1, 64)          0         \n",
            "_________________________________________________________________\n",
            "flatten_25 (Flatten)         (None, 64)                0         \n",
            "_________________________________________________________________\n",
            "dense_70 (Dense)             (None, 32)                2080      \n",
            "_________________________________________________________________\n",
            "dropout_63 (Dropout)         (None, 32)                0         \n",
            "_________________________________________________________________\n",
            "dense_71 (Dense)             (None, 32)                1056      \n",
            "_________________________________________________________________\n",
            "dropout_64 (Dropout)         (None, 32)                0         \n",
            "_________________________________________________________________\n",
            "dense_72 (Dense)             (None, 2)                 66        \n",
            "=================================================================\n",
            "Total params: 145,711\n",
            "Trainable params: 145,199\n",
            "Non-trainable params: 512\n",
            "_________________________________________________________________\n",
            "Model: \"functional_7\"\n",
            "__________________________________________________________________________________________________\n",
            "Layer (type)                    Output Shape         Param #     Connected to                     \n",
            "==================================================================================================\n",
            "input_1 (InputLayer)            [(None, 28, 28, 1)]  0                                            \n",
            "__________________________________________________________________________________________________\n",
            "functional_1 (Functional)       (None, 28, 28, 1)    86765       input_1[0][0]                    \n",
            "                                                                 input_1[0][0]                    \n",
            "                                                                 input_1[0][0]                    \n",
            "__________________________________________________________________________________________________\n",
            "functional_3 (Functional)       (None, 1)            223182      functional_1[3][0]               \n",
            "__________________________________________________________________________________________________\n",
            "functional_5 (Functional)       (None, 2)            145711      functional_1[5][0]               \n",
            "==================================================================================================\n",
            "Total params: 282,128\n",
            "Trainable params: 281,360\n",
            "Non-trainable params: 768\n",
            "__________________________________________________________________________________________________\n",
            "Epoch 1/5\n",
            "375/375 [==============================] - 3s 8ms/step - loss: 0.0426 - accuracy: 0.9868\n",
            "Epoch 2/5\n",
            "375/375 [==============================] - 3s 8ms/step - loss: 0.0123 - accuracy: 0.9962\n",
            "Epoch 3/5\n",
            "375/375 [==============================] - 3s 8ms/step - loss: 0.0043 - accuracy: 0.9987\n",
            "Epoch 4/5\n",
            "375/375 [==============================] - 3s 8ms/step - loss: 0.0069 - accuracy: 0.9979\n",
            "Epoch 5/5\n",
            "375/375 [==============================] - 3s 8ms/step - loss: 0.0012 - accuracy: 0.9997\n",
            "Epoch 4\n",
            "(93,)\n",
            "[ 0  1  2  3  4  5  6  7  8  9 10 11 12 13 14 15 16 17 18 19 20 21 22 23\n",
            " 24 25 26 27 28 29 30 31 32 33 34 35 36 37 38 39 40 41 42 44 45 46 47 48\n",
            " 49 50 51 52 53 54 55 56 57 58 59 61 62 63 64 65 66 67 68 69 70 72 73 74\n",
            " 75 76 77 78 79 80 81 82 83 84 85 86 87 88 89 90 91 92 93 94 95]\n",
            "Discriminator -- Loss:0.714462\tAccuracy:47.40%\n",
            "Generator -- Loss:0.684301\n",
            "Hinge Loss: 0.252794\n",
            "Target Loss: 0.108723\tAccuracy:99.20%\n",
            "Epoch 3\n",
            "(95,)\n",
            "[ 0  1  2  3  4  5  6  7  8  9 10 11 12 13 14 15 16 17 18 19 20 21 22 23\n",
            " 24 25 26 27 28 29 30 31 32 33 34 35 36 37 38 39 40 41 42 43 44 45 46 47\n",
            " 48 49 50 51 52 53 54 55 56 57 58 59 61 62 63 64 65 66 67 68 69 70 71 72\n",
            " 73 74 75 76 77 78 79 80 81 82 83 84 85 86 87 88 89 90 91 92 93 94 95]\n",
            "Discriminator -- Loss:0.711206\tAccuracy:50.52%\n",
            "Generator -- Loss:0.667110\n",
            "Hinge Loss: 0.248092\n",
            "Target Loss: 0.034901\tAccuracy:1.04%\n",
            "Epoch 2\n",
            "(95,)\n",
            "[ 0  1  2  3  4  5  6  7  8  9 10 11 12 13 14 15 16 17 18 19 20 21 22 23\n",
            " 24 25 26 27 28 29 30 31 32 33 34 35 36 37 38 39 40 41 42 43 44 45 46 47\n",
            " 48 49 50 51 52 53 54 55 56 57 58 59 61 62 63 64 65 66 67 68 69 70 71 72\n",
            " 73 74 75 76 77 78 79 80 81 82 83 84 85 86 87 88 89 90 91 92 93 94 95]\n",
            "Discriminator -- Loss:0.713556\tAccuracy:45.31%\n",
            "Generator -- Loss:0.674579\n",
            "Hinge Loss: 0.234757\n",
            "Target Loss: 0.018205\tAccuracy:1.04%\n",
            "Epoch 1\n",
            "(95,)\n",
            "[ 0  1  2  3  4  5  6  7  8  9 10 11 12 13 14 15 16 17 18 19 20 21 22 23\n",
            " 24 25 26 27 28 29 30 31 32 33 34 35 36 37 38 39 40 41 42 43 44 45 46 47\n",
            " 48 49 50 51 52 53 54 55 56 57 58 59 61 62 63 64 65 66 67 68 69 70 71 72\n",
            " 73 74 75 76 77 78 79 80 81 82 83 84 85 86 87 88 89 90 91 92 93 94 95]\n",
            "Discriminator -- Loss:0.713884\tAccuracy:45.31%\n",
            "Generator -- Loss:0.680964\n",
            "Hinge Loss: 0.219142\n",
            "Target Loss: 0.029960\tAccuracy:1.04%\n",
            "Epoch 0\n",
            "(95,)\n",
            "[ 0  1  2  3  4  5  6  7  8  9 10 11 12 13 14 15 16 17 18 19 20 21 22 23\n",
            " 24 25 26 27 28 29 30 31 32 33 34 35 36 37 38 39 40 41 42 43 44 45 46 47\n",
            " 48 49 50 51 52 53 54 55 56 57 58 59 61 62 63 64 65 66 67 68 69 70 71 72\n",
            " 73 74 75 76 77 78 79 80 81 82 83 84 85 86 87 88 89 90 91 92 93 94 95]\n",
            "Discriminator -- Loss:0.710555\tAccuracy:44.79%\n",
            "Generator -- Loss:0.682821\n",
            "Hinge Loss: 0.201960\n",
            "Target Loss: 0.022817\tAccuracy:1.04%\n"
          ],
          "name": "stdout"
        }
      ]
    },
    {
      "cell_type": "code",
      "metadata": {
        "id": "OGOtQLAvDON6"
      },
      "source": [
        "[X1_GAN,Y_GAN]=temp\n",
        "X_GAN = X1_GAN / 255\n",
        "\n",
        "for i in range(len(X_GAN)):\n",
        "  X_GAN[i] = X_GAN[i].reshape((-1, img_rows, img_cols, channels))\n",
        "  if(Y_GAN[i]<0.5):\n",
        "    Y_GAN[i]=1\n",
        "  else:\n",
        "    Y_GAN[i]=3\n",
        "Y_GAN = tf.keras.utils.to_categorical(Y_GAN, num_classes)"
      ],
      "execution_count": null,
      "outputs": []
    },
    {
      "cell_type": "code",
      "metadata": {
        "id": "ABDIuWWRNVls",
        "outputId": "ec6ea6cc-9831-4707-d175-dbffc9b204c4",
        "colab": {
          "base_uri": "https://localhost:8080/",
          "height": 35
        }
      },
      "source": [
        "S1_GAN=model1.evaluate(x=X_GAN, y=Y_GAN, verbose=0)[1]\n",
        "print(\"Base accuracy on regular images with ADV-GAN attack\", S1_GAN) "
      ],
      "execution_count": null,
      "outputs": [
        {
          "output_type": "stream",
          "text": [
            "Base accuracy on regular images with ADV-GAN attack 0.5208333134651184\n"
          ],
          "name": "stdout"
        }
      ]
    },
    {
      "cell_type": "code",
      "metadata": {
        "id": "jeWzJvPKNl--",
        "outputId": "9b169b9a-2246-488c-d17e-496a35b0a7d3",
        "colab": {
          "base_uri": "https://localhost:8080/",
          "height": 35
        }
      },
      "source": [
        "S2_GAN=model2.evaluate(x=X_GAN, y=Y_GAN, verbose=0)[1]\n",
        "print(\"Base accuracy on regular images with ADV-GAN attack\", S2_GAN) "
      ],
      "execution_count": null,
      "outputs": [
        {
          "output_type": "stream",
          "text": [
            "Base accuracy on regular images with ADV-GAN attack 0.0\n"
          ],
          "name": "stdout"
        }
      ]
    },
    {
      "cell_type": "code",
      "metadata": {
        "id": "9hSklujoNvkx",
        "outputId": "d9fb2f13-ef78-4624-bbaa-3714cf6857ac",
        "colab": {
          "base_uri": "https://localhost:8080/",
          "height": 35
        }
      },
      "source": [
        "S3_GAN=model3.evaluate(x=X_GAN, y=Y_GAN, verbose=0)[1]\n",
        "print(\"precision with ADV-GAN attack from one neural network:\", S3_GAN) "
      ],
      "execution_count": null,
      "outputs": [
        {
          "output_type": "stream",
          "text": [
            "precision with ADV-GAN attack from one neural network: 0.4791666567325592\n"
          ],
          "name": "stdout"
        }
      ]
    },
    {
      "cell_type": "code",
      "metadata": {
        "id": "XsuBNJNDT2vR",
        "outputId": "64f18c49-0a57-4c37-cc65-613184c95999",
        "colab": {
          "base_uri": "https://localhost:8080/",
          "height": 35
        }
      },
      "source": [
        "M1_GAN=evaluate_n_members(ensemble_same_struct,3,X_GAN,Y_GAN)\n",
        "print(\"precision with ADV-GAN attack:\",M1_GAN)"
      ],
      "execution_count": null,
      "outputs": [
        {
          "output_type": "stream",
          "text": [
            "precision with ADV-GAN attack: 0.4791666666666667\n"
          ],
          "name": "stdout"
        }
      ]
    },
    {
      "cell_type": "code",
      "metadata": {
        "id": "WTiYb7-JZfPm",
        "outputId": "04437cc7-fb03-46ab-8cb5-9c58a132fc41",
        "colab": {
          "base_uri": "https://localhost:8080/",
          "height": 110
        }
      },
      "source": [
        "M2_GAN=evaluate_n_members(ensemble_diff_structs,3,X_GAN,Y_GAN)\n",
        "print(\"precision with ADV-GAN attack:\",M2_GAN)"
      ],
      "execution_count": null,
      "outputs": [
        {
          "output_type": "stream",
          "text": [
            "WARNING:tensorflow:5 out of the last 391 calls to <function Model.make_predict_function.<locals>.predict_function at 0x7faa90e7a620> triggered tf.function retracing. Tracing is expensive and the excessive number of tracings could be due to (1) creating @tf.function repeatedly in a loop, (2) passing tensors with different shapes, (3) passing Python objects instead of tensors. For (1), please define your @tf.function outside of the loop. For (2), @tf.function has experimental_relax_shapes=True option that relaxes argument shapes that can avoid unnecessary retracing. For (3), please refer to https://www.tensorflow.org/tutorials/customization/performance#python_or_tensor_args and https://www.tensorflow.org/api_docs/python/tf/function for  more details.\n",
            "WARNING:tensorflow:5 out of the last 13 calls to <function Model.make_predict_function.<locals>.predict_function at 0x7faa9063dc80> triggered tf.function retracing. Tracing is expensive and the excessive number of tracings could be due to (1) creating @tf.function repeatedly in a loop, (2) passing tensors with different shapes, (3) passing Python objects instead of tensors. For (1), please define your @tf.function outside of the loop. For (2), @tf.function has experimental_relax_shapes=True option that relaxes argument shapes that can avoid unnecessary retracing. For (3), please refer to https://www.tensorflow.org/tutorials/customization/performance#python_or_tensor_args and https://www.tensorflow.org/api_docs/python/tf/function for  more details.\n",
            "WARNING:tensorflow:5 out of the last 13 calls to <function Model.make_predict_function.<locals>.predict_function at 0x7faa9063d488> triggered tf.function retracing. Tracing is expensive and the excessive number of tracings could be due to (1) creating @tf.function repeatedly in a loop, (2) passing tensors with different shapes, (3) passing Python objects instead of tensors. For (1), please define your @tf.function outside of the loop. For (2), @tf.function has experimental_relax_shapes=True option that relaxes argument shapes that can avoid unnecessary retracing. For (3), please refer to https://www.tensorflow.org/tutorials/customization/performance#python_or_tensor_args and https://www.tensorflow.org/api_docs/python/tf/function for  more details.\n",
            "precision with ADV-GAN attack: 0.4791666666666667\n"
          ],
          "name": "stdout"
        }
      ]
    },
    {
      "cell_type": "code",
      "metadata": {
        "id": "bRRccFrzZv1s",
        "outputId": "b405ffc7-98cc-490d-9199-66d60e2f326f",
        "colab": {
          "base_uri": "https://localhost:8080/",
          "height": 110
        }
      },
      "source": [
        "M3_GAN=evaluate_n_members(ensemble_same_struct_random_split,3,X_GAN,Y_GAN)\n",
        "print(\"precision with average gradient attack from all neural network:\",M3_GAN)"
      ],
      "execution_count": null,
      "outputs": [
        {
          "output_type": "stream",
          "text": [
            "WARNING:tensorflow:5 out of the last 13 calls to <function Model.make_predict_function.<locals>.predict_function at 0x7faa8d91c7b8> triggered tf.function retracing. Tracing is expensive and the excessive number of tracings could be due to (1) creating @tf.function repeatedly in a loop, (2) passing tensors with different shapes, (3) passing Python objects instead of tensors. For (1), please define your @tf.function outside of the loop. For (2), @tf.function has experimental_relax_shapes=True option that relaxes argument shapes that can avoid unnecessary retracing. For (3), please refer to https://www.tensorflow.org/tutorials/customization/performance#python_or_tensor_args and https://www.tensorflow.org/api_docs/python/tf/function for  more details.\n",
            "WARNING:tensorflow:5 out of the last 13 calls to <function Model.make_predict_function.<locals>.predict_function at 0x7faa8d0bfea0> triggered tf.function retracing. Tracing is expensive and the excessive number of tracings could be due to (1) creating @tf.function repeatedly in a loop, (2) passing tensors with different shapes, (3) passing Python objects instead of tensors. For (1), please define your @tf.function outside of the loop. For (2), @tf.function has experimental_relax_shapes=True option that relaxes argument shapes that can avoid unnecessary retracing. For (3), please refer to https://www.tensorflow.org/tutorials/customization/performance#python_or_tensor_args and https://www.tensorflow.org/api_docs/python/tf/function for  more details.\n",
            "WARNING:tensorflow:5 out of the last 13 calls to <function Model.make_predict_function.<locals>.predict_function at 0x7faa8c8a2840> triggered tf.function retracing. Tracing is expensive and the excessive number of tracings could be due to (1) creating @tf.function repeatedly in a loop, (2) passing tensors with different shapes, (3) passing Python objects instead of tensors. For (1), please define your @tf.function outside of the loop. For (2), @tf.function has experimental_relax_shapes=True option that relaxes argument shapes that can avoid unnecessary retracing. For (3), please refer to https://www.tensorflow.org/tutorials/customization/performance#python_or_tensor_args and https://www.tensorflow.org/api_docs/python/tf/function for  more details.\n",
            "precision with average gradient attack from all neural network: 0.4791666666666667\n"
          ],
          "name": "stdout"
        }
      ]
    },
    {
      "cell_type": "code",
      "metadata": {
        "id": "5mZd7fvjaIcV",
        "outputId": "384ad8c0-0217-4e99-f50e-083e8fd4216a",
        "colab": {
          "base_uri": "https://localhost:8080/",
          "height": 110
        }
      },
      "source": [
        "M4_GAN=evaluate_n_members(ensemble_same_struct_k_fold,3,X_GAN,Y_GAN)\n",
        "print(\"precision with average gradient attack from all neural network:\",M4_GAN)"
      ],
      "execution_count": null,
      "outputs": [
        {
          "output_type": "stream",
          "text": [
            "WARNING:tensorflow:5 out of the last 13 calls to <function Model.make_predict_function.<locals>.predict_function at 0x7faa8da5a158> triggered tf.function retracing. Tracing is expensive and the excessive number of tracings could be due to (1) creating @tf.function repeatedly in a loop, (2) passing tensors with different shapes, (3) passing Python objects instead of tensors. For (1), please define your @tf.function outside of the loop. For (2), @tf.function has experimental_relax_shapes=True option that relaxes argument shapes that can avoid unnecessary retracing. For (3), please refer to https://www.tensorflow.org/tutorials/customization/performance#python_or_tensor_args and https://www.tensorflow.org/api_docs/python/tf/function for  more details.\n",
            "WARNING:tensorflow:5 out of the last 13 calls to <function Model.make_predict_function.<locals>.predict_function at 0x7faa89cb2378> triggered tf.function retracing. Tracing is expensive and the excessive number of tracings could be due to (1) creating @tf.function repeatedly in a loop, (2) passing tensors with different shapes, (3) passing Python objects instead of tensors. For (1), please define your @tf.function outside of the loop. For (2), @tf.function has experimental_relax_shapes=True option that relaxes argument shapes that can avoid unnecessary retracing. For (3), please refer to https://www.tensorflow.org/tutorials/customization/performance#python_or_tensor_args and https://www.tensorflow.org/api_docs/python/tf/function for  more details.\n",
            "WARNING:tensorflow:5 out of the last 13 calls to <function Model.make_predict_function.<locals>.predict_function at 0x7faa89cd9c80> triggered tf.function retracing. Tracing is expensive and the excessive number of tracings could be due to (1) creating @tf.function repeatedly in a loop, (2) passing tensors with different shapes, (3) passing Python objects instead of tensors. For (1), please define your @tf.function outside of the loop. For (2), @tf.function has experimental_relax_shapes=True option that relaxes argument shapes that can avoid unnecessary retracing. For (3), please refer to https://www.tensorflow.org/tutorials/customization/performance#python_or_tensor_args and https://www.tensorflow.org/api_docs/python/tf/function for  more details.\n",
            "precision with average gradient attack from all neural network: 0.4791666666666667\n"
          ],
          "name": "stdout"
        }
      ]
    },
    {
      "cell_type": "code",
      "metadata": {
        "id": "1gE8YB_SaIsR",
        "outputId": "ac7fedce-63c3-4766-abca-5b8bbbbfc61b",
        "colab": {
          "base_uri": "https://localhost:8080/",
          "height": 110
        }
      },
      "source": [
        "M5_GAN=evaluate_n_members(ensemble_same_struct_bagging,3,X_GAN,Y_GAN)\n",
        "print(\"precision with average gradient attack from all neural network:\",M5_GAN)"
      ],
      "execution_count": null,
      "outputs": [
        {
          "output_type": "stream",
          "text": [
            "WARNING:tensorflow:5 out of the last 13 calls to <function Model.make_predict_function.<locals>.predict_function at 0x7faa87778400> triggered tf.function retracing. Tracing is expensive and the excessive number of tracings could be due to (1) creating @tf.function repeatedly in a loop, (2) passing tensors with different shapes, (3) passing Python objects instead of tensors. For (1), please define your @tf.function outside of the loop. For (2), @tf.function has experimental_relax_shapes=True option that relaxes argument shapes that can avoid unnecessary retracing. For (3), please refer to https://www.tensorflow.org/tutorials/customization/performance#python_or_tensor_args and https://www.tensorflow.org/api_docs/python/tf/function for  more details.\n",
            "WARNING:tensorflow:5 out of the last 13 calls to <function Model.make_predict_function.<locals>.predict_function at 0x7faa87778048> triggered tf.function retracing. Tracing is expensive and the excessive number of tracings could be due to (1) creating @tf.function repeatedly in a loop, (2) passing tensors with different shapes, (3) passing Python objects instead of tensors. For (1), please define your @tf.function outside of the loop. For (2), @tf.function has experimental_relax_shapes=True option that relaxes argument shapes that can avoid unnecessary retracing. For (3), please refer to https://www.tensorflow.org/tutorials/customization/performance#python_or_tensor_args and https://www.tensorflow.org/api_docs/python/tf/function for  more details.\n",
            "WARNING:tensorflow:5 out of the last 13 calls to <function Model.make_predict_function.<locals>.predict_function at 0x7faa8775d840> triggered tf.function retracing. Tracing is expensive and the excessive number of tracings could be due to (1) creating @tf.function repeatedly in a loop, (2) passing tensors with different shapes, (3) passing Python objects instead of tensors. For (1), please define your @tf.function outside of the loop. For (2), @tf.function has experimental_relax_shapes=True option that relaxes argument shapes that can avoid unnecessary retracing. For (3), please refer to https://www.tensorflow.org/tutorials/customization/performance#python_or_tensor_args and https://www.tensorflow.org/api_docs/python/tf/function for  more details.\n",
            "precision with average gradient attack from all neural network: 0.4791666666666667\n"
          ],
          "name": "stdout"
        }
      ]
    },
    {
      "cell_type": "code",
      "metadata": {
        "id": "TALvmnDnafW8",
        "outputId": "b5b6959e-e909-4896-979d-76d7d6f1f38b",
        "colab": {
          "base_uri": "https://localhost:8080/",
          "height": 110
        }
      },
      "source": [
        "M7_GAN=evaluate_n_members(M7,3,X_GAN,Y_GAN)\n",
        "print(\"precision with average gradient attack from all neural network:\",M7_GAN)"
      ],
      "execution_count": null,
      "outputs": [
        {
          "output_type": "stream",
          "text": [
            "WARNING:tensorflow:5 out of the last 13 calls to <function Model.make_predict_function.<locals>.predict_function at 0x7faa88c3a6a8> triggered tf.function retracing. Tracing is expensive and the excessive number of tracings could be due to (1) creating @tf.function repeatedly in a loop, (2) passing tensors with different shapes, (3) passing Python objects instead of tensors. For (1), please define your @tf.function outside of the loop. For (2), @tf.function has experimental_relax_shapes=True option that relaxes argument shapes that can avoid unnecessary retracing. For (3), please refer to https://www.tensorflow.org/tutorials/customization/performance#python_or_tensor_args and https://www.tensorflow.org/api_docs/python/tf/function for  more details.\n",
            "WARNING:tensorflow:5 out of the last 13 calls to <function Model.make_predict_function.<locals>.predict_function at 0x7faa8ed96a60> triggered tf.function retracing. Tracing is expensive and the excessive number of tracings could be due to (1) creating @tf.function repeatedly in a loop, (2) passing tensors with different shapes, (3) passing Python objects instead of tensors. For (1), please define your @tf.function outside of the loop. For (2), @tf.function has experimental_relax_shapes=True option that relaxes argument shapes that can avoid unnecessary retracing. For (3), please refer to https://www.tensorflow.org/tutorials/customization/performance#python_or_tensor_args and https://www.tensorflow.org/api_docs/python/tf/function for  more details.\n",
            "WARNING:tensorflow:5 out of the last 13 calls to <function Model.make_predict_function.<locals>.predict_function at 0x7faab61c6378> triggered tf.function retracing. Tracing is expensive and the excessive number of tracings could be due to (1) creating @tf.function repeatedly in a loop, (2) passing tensors with different shapes, (3) passing Python objects instead of tensors. For (1), please define your @tf.function outside of the loop. For (2), @tf.function has experimental_relax_shapes=True option that relaxes argument shapes that can avoid unnecessary retracing. For (3), please refer to https://www.tensorflow.org/tutorials/customization/performance#python_or_tensor_args and https://www.tensorflow.org/api_docs/python/tf/function for  more details.\n",
            "precision with average gradient attack from all neural network: 0.4791666666666667\n"
          ],
          "name": "stdout"
        }
      ]
    },
    {
      "cell_type": "code",
      "metadata": {
        "id": "635WEyp2afts",
        "outputId": "ef2bc485-898d-4de5-dd61-b75c1c389a9f",
        "colab": {
          "base_uri": "https://localhost:8080/",
          "height": 248
        }
      },
      "source": [
        "#Plot attack sample images\n",
        "dcgan.save_generated_images(\"\",X1_GAN,\"\")"
      ],
      "execution_count": null,
      "outputs": [
        {
          "output_type": "display_data",
          "data": {
            "image/png": "[encoded data removed]",
            "text/plain": [
              "<Figure size 432x288 with 25 Axes>"
            ]
          },
          "metadata": {
            "tags": [],
            "needs_background": "light"
          }
        }
      ]
    },
    {
      "cell_type": "code",
      "metadata": {
        "id": "HQVqURBaRBiF",
        "outputId": "bde3c081-6c2e-4f13-cf48-fa0f57293677",
        "colab": {
          "base_uri": "https://localhost:8080/",
          "height": 248
        }
      },
      "source": [
        "dcgan.save_generated_images(\"\",ad_attack1,\"\")"
      ],
      "execution_count": null,
      "outputs": [
        {
          "output_type": "display_data",
          "data": {
            "image/png": "[encoded data removed]",
            "text/plain": [
              "<Figure size 432x288 with 25 Axes>"
            ]
          },
          "metadata": {
            "tags": [],
            "needs_background": "light"
          }
        }
      ]
    },
    {
      "cell_type": "code",
      "metadata": {
        "id": "MPLIM7l3RIxn",
        "outputId": "13038ef0-957f-4723-9bcc-55a60aa6622b",
        "colab": {
          "base_uri": "https://localhost:8080/",
          "height": 248
        }
      },
      "source": [
        "dcgan.save_generated_images(\"\",trainX,\"\")"
      ],
      "execution_count": null,
      "outputs": [
        {
          "output_type": "display_data",
          "data": {
            "image/png": "[encoded data removed]",
            "text/plain": [
              "<Figure size 432x288 with 25 Axes>"
            ]
          },
          "metadata": {
            "tags": [],
            "needs_background": "light"
          }
        }
      ]
    },
    {
      "cell_type": "markdown",
      "metadata": {
        "id": "AjMn_vIk3-UJ"
      },
      "source": [
        "#Comparison between base precision and precision after attack"
      ]
    },
    {
      "cell_type": "code",
      "metadata": {
        "id": "H1QdTh6e443e",
        "outputId": "135716dd-a79c-453e-96ba-d681196c5894",
        "colab": {
          "base_uri": "https://localhost:8080/",
          "height": 299
        }
      },
      "source": [
        "# width of the bars\n",
        "barWidth = 0.3\n",
        " \n",
        "# Choose the height of the blue bars\n",
        "bars1 = [np.mean(s1), np.mean(s2) , np.mean(s3)]\n",
        " \n",
        "# Choose the height of the cyan bars\n",
        "bars2 = [S1_GAN, S2_GAN , S3_GAN]\n",
        " \n",
        "# Choose the height of the error bars (bars1)\n",
        "yer1 = [np.var(s1), np.var(s2), np.var(s3)]\n",
        " \n",
        "# Choose the height of the error bars (bars2)\n",
        "yer2 = [np.var(s1_a), np.var(s2_a), np.var(s3_a)]\n",
        " \n",
        "# The x position of bars\n",
        "r1 = np.arange(len(bars1))\n",
        "r2 = [x + barWidth for x in r1]\n",
        " \n",
        "# Create blue bars\n",
        "plt.bar(r1, bars1, width = barWidth, color = 'blue', edgecolor = 'black', yerr=yer1 ,capsize=7, label='base precision')\n",
        " \n",
        "# Create cyan bars\n",
        "plt.bar(r2, bars2, width = barWidth, color = 'cyan', edgecolor = 'black', yerr=yer2 ,capsize=7, label='precision under attack')\n",
        " \n",
        "# general layout\n",
        "plt.title('Adv_GAN attack on different structure neural network')\n",
        "plt.xticks([r + barWidth for r in range(len(bars1))], ['s1', 's2', 's3'])\n",
        "plt.ylabel('precision')\n",
        "plt.legend()\n"
      ],
      "execution_count": null,
      "outputs": [
        {
          "output_type": "execute_result",
          "data": {
            "text/plain": [
              "<matplotlib.legend.Legend at 0x7faa867b12e8>"
            ]
          },
          "metadata": {
            "tags": []
          },
          "execution_count": 90
        },
        {
          "output_type": "display_data",
          "data": {
            "image/png": "[encoded data removed]",
            "text/plain": [
              "<Figure size 432x288 with 1 Axes>"
            ]
          },
          "metadata": {
            "tags": [],
            "needs_background": "light"
          }
        }
      ]
    },
    {
      "cell_type": "code",
      "metadata": {
        "id": "utJNx-4h8exx",
        "outputId": "35c93ad1-5c21-4f48-ba3a-52deb3c7e19d",
        "colab": {
          "base_uri": "https://localhost:8080/",
          "height": 299
        }
      },
      "source": [
        "import numpy as np\n",
        "import matplotlib.pyplot as plt\n",
        " \n",
        "# width of the bars\n",
        "barWidth = 0.3\n",
        " \n",
        "# Choose the height of the blue bars\n",
        "bars1 = [np.mean(m1_base), np.mean(m2_base) , np.mean(m3_base), np.mean(m4_base), np.mean(m5_base), np.mean(m7_base)]\n",
        " \n",
        "# Choose the height of the cyan bars\n",
        "bars2 = [M1_GAN, M2_GAN , M3_GAN, M4_GAN, M5_GAN, M7_GAN]\n",
        "\n",
        "#bars3 = [np.mean(m1_attack_all), np.mean(m2_attack_all) , np.mean(m3_attack_all), np.mean(m4_attack_all), np.mean(m5_attack_all), np.mean(m7_attack_all)]\n",
        "\n",
        " \n",
        "# Choose the height of the error bars (bars1)\n",
        "#yer1 = [np.var(s1), np.var(s2), np.var(s3)]\n",
        " \n",
        "# Choose the height of the error bars (bars2)\n",
        "#yer2 = [np.var(s1_a), np.var(s2_a), np.var(s3_a)]\n",
        " \n",
        "# The x position of bars\n",
        "r1 = np.arange(len(bars1))\n",
        "r2 = [x + barWidth for x in r1]\n",
        "#r3 =  [x + barWidth for x in r2]\n",
        "# Create blue bars\n",
        "plt.bar(r1, bars1, width = barWidth, color = 'blue', edgecolor = 'black' ,capsize=7, label='base precision')\n",
        " \n",
        "# Create cyan bars\n",
        "plt.bar(r2, bars2, width = barWidth, color = 'cyan', edgecolor = 'black' ,capsize=7, label='precision under Adv-GAN attack')\n",
        " \n",
        "#plt.bar(r3, bars3, width = barWidth, color = 'green', edgecolor = 'black' ,capsize=7, label='precision under the average of FGSM attack')\n",
        "# general layout\n",
        "plt.title('Adv_GAN attack on different method')\n",
        "plt.xticks([r + 2*barWidth for r in range(len(bars1))], ['m1', 'm2', 'm3','m4','m5','m7'])\n",
        "plt.ylabel('precision')\n",
        "plt.legend()"
      ],
      "execution_count": null,
      "outputs": [
        {
          "output_type": "execute_result",
          "data": {
            "text/plain": [
              "<matplotlib.legend.Legend at 0x7faa8672b550>"
            ]
          },
          "metadata": {
            "tags": []
          },
          "execution_count": 91
        },
        {
          "output_type": "display_data",
          "data": {
            "image/png": "[encoded data removed]",
            "text/plain": [
              "<Figure size 432x288 with 1 Axes>"
            ]
          },
          "metadata": {
            "tags": [],
            "needs_background": "light"
          }
        }
      ]
    },
    {
      "cell_type": "code",
      "metadata": {
        "id": "a_xXUzu9n6Wg",
        "outputId": "8538e22c-2efe-4b8c-a89a-911edfb04974",
        "colab": {
          "base_uri": "https://localhost:8080/",
          "height": 35
        }
      },
      "source": [
        "import tensorflow\n",
        "print(tensorflow.__version__)\n"
      ],
      "execution_count": null,
      "outputs": [
        {
          "output_type": "stream",
          "text": [
            "2.3.0\n"
          ],
          "name": "stdout"
        }
      ]
    }
  ]
}